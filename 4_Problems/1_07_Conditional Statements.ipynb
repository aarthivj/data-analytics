{
  "cells": [
    {
      "cell_type": "markdown",
      "id": "e3327670",
      "metadata": {
        "id": "e3327670"
      },
      "source": [
        "<a target=\"_blank\" href=\"https://colab.research.google.com/github/lukebarousse/Python_Data_Analytics_Course/blob/main/4_Problems/1_07_Conditional Statements.ipynb\">\n",
        "  <img src=\"https://colab.research.google.com/assets/colab-badge.svg\" alt=\"Open In Colab\"/>\n",
        "</a>"
      ]
    },
    {
      "cell_type": "markdown",
      "id": "2aaa1761",
      "metadata": {
        "id": "2aaa1761"
      },
      "source": [
        "## 🟩 Determine Python Experience (1.7.1)"
      ]
    },
    {
      "cell_type": "code",
      "execution_count": 2,
      "id": "9eaa2dc1",
      "metadata": {
        "id": "9eaa2dc1",
        "outputId": "7032c455-43d6-4432-b1df-be66e54a8956",
        "colab": {
          "base_uri": "https://localhost:8080/"
        }
      },
      "outputs": [
        {
          "output_type": "stream",
          "name": "stdout",
          "text": [
            "The person is a expierenced candidate\n"
          ]
        }
      ],
      "source": [
        "# Code Needed\n",
        "python_experience = 3\n",
        "if python_experience > 2:\n",
        "  print (\"The person is a expierenced candidate\")\n",
        "else:\n",
        "  print(\"The person should be trained \")"
      ]
    },
    {
      "cell_type": "markdown",
      "id": "e5985de7",
      "metadata": {
        "id": "e5985de7"
      },
      "source": [
        "---"
      ]
    },
    {
      "cell_type": "markdown",
      "id": "1d103802",
      "metadata": {
        "id": "1d103802"
      },
      "source": [
        "## 🟨 Determine Job Skill Level (1.7.2)"
      ]
    },
    {
      "cell_type": "code",
      "execution_count": 4,
      "id": "bb543cdd",
      "metadata": {
        "id": "bb543cdd",
        "outputId": "8fa8a37b-0139-4ae4-cc16-28bfee867987",
        "colab": {
          "base_uri": "https://localhost:8080/"
        }
      },
      "outputs": [
        {
          "output_type": "stream",
          "name": "stdout",
          "text": [
            "This person is expierenced\n"
          ]
        }
      ],
      "source": [
        "# Code Needed\n",
        "tools_known = 3\n",
        "if tools_known >= 3:\n",
        "  print(\"This person is expierenced\")\n",
        "elif tools_known > 2:\n",
        "  print(\"This person is well trained\")\n",
        "else:\n",
        "  print(\"This person has zero knowledge and he is a beginner\")\n"
      ]
    },
    {
      "cell_type": "markdown",
      "id": "fdf0324b",
      "metadata": {
        "id": "fdf0324b"
      },
      "source": [
        "---"
      ]
    },
    {
      "cell_type": "markdown",
      "id": "847f3e27",
      "metadata": {
        "id": "847f3e27"
      },
      "source": [
        "## 🟥 Determine Job Title (1.7.3)"
      ]
    },
    {
      "cell_type": "code",
      "execution_count": 5,
      "id": "f73925e8",
      "metadata": {
        "id": "f73925e8",
        "outputId": "f6bf7c63-bbec-4ebc-b6e2-c06bebe61d5e",
        "colab": {
          "base_uri": "https://localhost:8080/"
        }
      },
      "outputs": [
        {
          "output_type": "stream",
          "name": "stdout",
          "text": [
            "This person is a Data Analyst\n"
          ]
        }
      ],
      "source": [
        "# Code Needed\n",
        "job_experience = 4\n",
        "sql_experience = 2\n",
        "if job_experience > 4 and sql_experience > 2:\n",
        "  print(\"This person is a Data scientist\")\n",
        "elif job_experience >= 2 and sql_experience >=2:\n",
        "  print(\"This person is a Data Analyst\")\n",
        "else:\n",
        "  print(\"This person is just a Beginner\")\n"
      ]
    },
    {
      "cell_type": "markdown",
      "id": "5a5189c6",
      "metadata": {
        "id": "5a5189c6"
      },
      "source": [
        "---"
      ]
    }
  ],
  "metadata": {
    "colab": {
      "provenance": []
    },
    "language_info": {
      "name": "python"
    },
    "kernelspec": {
      "name": "python3",
      "display_name": "Python 3"
    }
  },
  "nbformat": 4,
  "nbformat_minor": 5
}