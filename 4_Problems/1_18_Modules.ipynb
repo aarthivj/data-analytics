{
  "cells": [
    {
      "cell_type": "markdown",
      "id": "54c69af0",
      "metadata": {
        "id": "54c69af0"
      },
      "source": [
        "<a target=\"_blank\" href=\"https://colab.research.google.com/github/lukebarousse/Python_Data_Analytics_Course/blob/main/4_Problems/1_18_Modules.ipynb\">\n",
        "  <img src=\"https://colab.research.google.com/assets/colab-badge.svg\" alt=\"Open In Colab\"/>\n",
        "</a>"
      ]
    },
    {
      "cell_type": "markdown",
      "id": "6275a2c8",
      "metadata": {
        "id": "6275a2c8"
      },
      "source": [
        "## 🟩 Calculate Annual Salary (1.18.1)"
      ]
    },
    {
      "cell_type": "code",
      "execution_count": 2,
      "id": "61852e86",
      "metadata": {
        "id": "61852e86",
        "outputId": "cf607f42-5ac1-4277-c4ee-20581cb3e048",
        "colab": {
          "base_uri": "https://localhost:8080/"
        }
      },
      "outputs": [
        {
          "output_type": "stream",
          "name": "stdout",
          "text": [
            "Overwriting salary_calculator.py\n"
          ]
        }
      ],
      "source": [
        "%%writefile salary_calculator.py\n",
        "import salary_calculator\n",
        "# cell magic command to write the contents of this cell to a file called salary_calculator.py"
      ]
    },
    {
      "cell_type": "markdown",
      "id": "1105769b",
      "metadata": {
        "id": "1105769b"
      },
      "source": [
        "---"
      ]
    },
    {
      "cell_type": "markdown",
      "id": "ad5f9e59",
      "metadata": {
        "id": "ad5f9e59"
      },
      "source": [
        "## 🟨 Filter Job Postings by Location (1.18.2)"
      ]
    },
    {
      "cell_type": "code",
      "execution_count": 3,
      "id": "50c82097",
      "metadata": {
        "id": "50c82097",
        "outputId": "45d38f19-599d-4be0-e5c2-7ec0c4cdbaf9",
        "colab": {
          "base_uri": "https://localhost:8080/"
        }
      },
      "outputs": [
        {
          "output_type": "stream",
          "name": "stdout",
          "text": [
            "Writing job_filter.py\n"
          ]
        }
      ],
      "source": [
        "%%writefile job_filter.py\n",
        "import job_filter\n",
        "# cell magic command to write the contents of this cell to a file called job_filter.py"
      ]
    },
    {
      "cell_type": "code",
      "execution_count": 5,
      "id": "2b9e6953",
      "metadata": {
        "id": "2b9e6953",
        "outputId": "5734493b-2c9b-4fda-e211-a917b5ea31e6",
        "colab": {
          "base_uri": "https://localhost:8080/"
        }
      },
      "outputs": [
        {
          "output_type": "execute_result",
          "data": {
            "text/plain": [
              "[{'title': 'Data Scientist', 'location': 'New York'},\n",
              " {'title': 'Machine Learning Engineer', 'location': 'New York'}]"
            ]
          },
          "metadata": {},
          "execution_count": 5
        }
      ],
      "source": [
        "# Code Needed\n",
        "job_postings = [\n",
        "    {'title': 'Data Scientist', 'location': 'New York'},\n",
        "    {'title': 'Data Analyst', 'location': 'San Francisco'},\n",
        "    {'title': 'Machine Learning Engineer', 'location': 'New York'}\n",
        "]\n",
        "list(filter(lambda job : 'New York' in job['location'] ,job_postings))"
      ]
    },
    {
      "cell_type": "markdown",
      "id": "e1861164",
      "metadata": {
        "id": "e1861164"
      },
      "source": [
        "---"
      ]
    }
  ],
  "metadata": {
    "language_info": {
      "name": "python"
    },
    "colab": {
      "provenance": [],
      "toc_visible": true
    },
    "kernelspec": {
      "name": "python3",
      "display_name": "Python 3"
    }
  },
  "nbformat": 4,
  "nbformat_minor": 5
}