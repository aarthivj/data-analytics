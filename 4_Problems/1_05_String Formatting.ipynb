{
  "cells": [
    {
      "cell_type": "markdown",
      "id": "707277df",
      "metadata": {
        "id": "707277df"
      },
      "source": [
        "<a target=\"_blank\" href=\"https://colab.research.google.com/github/lukebarousse/Python_Data_Analytics_Course/blob/main/4_Problems/1_05_String Formatting.ipynb\">\n",
        "  <img src=\"https://colab.research.google.com/assets/colab-badge.svg\" alt=\"Open In Colab\"/>\n",
        "</a>"
      ]
    },
    {
      "cell_type": "markdown",
      "id": "33249ddd",
      "metadata": {
        "id": "33249ddd"
      },
      "source": [
        "## 🟩 Concatenate Strings (1.5.1)"
      ]
    },
    {
      "cell_type": "code",
      "execution_count": 9,
      "id": "f5eb44b1",
      "metadata": {
        "id": "f5eb44b1",
        "outputId": "eb8028e2-0a1d-4da1-a49c-74a380cfa2f1",
        "colab": {
          "base_uri": "https://localhost:8080/",
          "height": 36
        }
      },
      "outputs": [
        {
          "output_type": "execute_result",
          "data": {
            "text/plain": [
              "'Data Scientist at Google'"
            ],
            "application/vnd.google.colaboratory.intrinsic+json": {
              "type": "string"
            }
          },
          "metadata": {},
          "execution_count": 9
        }
      ],
      "source": [
        "# Code Needed\n",
        "job_title = 'Data Scientist'\n",
        "company = 'Google'\n",
        "new_string = job_title + \" \"+'at'+\" \" + company\n",
        "new_string\n"
      ]
    },
    {
      "cell_type": "markdown",
      "id": "ceadadd2",
      "metadata": {
        "id": "ceadadd2"
      },
      "source": [
        "---"
      ]
    },
    {
      "cell_type": "markdown",
      "id": "4b752a3b",
      "metadata": {
        "id": "4b752a3b"
      },
      "source": [
        "## 🟩 Format with f-strings (1.5.2)"
      ]
    },
    {
      "cell_type": "code",
      "execution_count": 1,
      "id": "f1dd6630",
      "metadata": {
        "id": "f1dd6630",
        "outputId": "d3d0a7e9-5693-4d9e-a085-fa1316d5a03d",
        "colab": {
          "base_uri": "https://localhost:8080/"
        }
      },
      "outputs": [
        {
          "output_type": "stream",
          "name": "stdout",
          "text": [
            "The position is Data Scientist and company is DataWiz Inc.\n"
          ]
        }
      ],
      "source": [
        "# Code Needed\n",
        "position = 'Data Scientist'\n",
        "company = 'DataWiz Inc.'\n",
        "print(f'The position is {position} and company is {company}')"
      ]
    },
    {
      "cell_type": "markdown",
      "id": "f3b9b437",
      "metadata": {
        "id": "f3b9b437"
      },
      "source": [
        "---"
      ]
    },
    {
      "cell_type": "markdown",
      "id": "7ccbfb33",
      "metadata": {
        "id": "7ccbfb33"
      },
      "source": [
        "## 🟩 Format with str.format() (1.5.3)"
      ]
    },
    {
      "cell_type": "code",
      "execution_count": 7,
      "id": "3ad6287a",
      "metadata": {
        "id": "3ad6287a",
        "outputId": "c4d1b383-7952-41e3-b2cc-9f33b56526a7",
        "colab": {
          "base_uri": "https://localhost:8080/"
        }
      },
      "outputs": [
        {
          "output_type": "stream",
          "name": "stdout",
          "text": [
            "The role is Data Analyst and the skill needed is Python\n"
          ]
        }
      ],
      "source": [
        "# Code Needed\n",
        "role = 'Data Analyst'\n",
        "skill = 'Python'\n",
        "print('The role is {} and the skill needed is {}'.format(role,skill))"
      ]
    },
    {
      "cell_type": "markdown",
      "id": "553e97a6",
      "metadata": {
        "id": "553e97a6"
      },
      "source": [
        "---"
      ]
    },
    {
      "cell_type": "markdown",
      "id": "2539859a",
      "metadata": {
        "id": "2539859a"
      },
      "source": [
        "## 🟨 Format with %-formatting (1.5.4)"
      ]
    },
    {
      "cell_type": "code",
      "execution_count": 11,
      "id": "88cfb9fa",
      "metadata": {
        "id": "88cfb9fa",
        "outputId": "fe7324ef-bc9d-4405-9202-711448186f67",
        "colab": {
          "base_uri": "https://localhost:8080/"
        }
      },
      "outputs": [
        {
          "output_type": "stream",
          "name": "stdout",
          "text": [
            "The role is Data Engineer and the skill needed is SQL\n"
          ]
        }
      ],
      "source": [
        "# Code Needed\n",
        "role = 'Data Engineer'\n",
        "skill = 'SQL'\n",
        "print('The role is %s and the skill needed is %s'%(role,skill))"
      ]
    },
    {
      "cell_type": "markdown",
      "id": "d6081ce3",
      "metadata": {
        "id": "d6081ce3"
      },
      "source": [
        "---"
      ]
    }
  ],
  "metadata": {
    "colab": {
      "provenance": []
    },
    "language_info": {
      "name": "python"
    },
    "kernelspec": {
      "name": "python3",
      "display_name": "Python 3"
    }
  },
  "nbformat": 4,
  "nbformat_minor": 5
}