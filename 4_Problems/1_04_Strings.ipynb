{
  "cells": [
    {
      "cell_type": "markdown",
      "id": "1ecc411a",
      "metadata": {
        "id": "1ecc411a"
      },
      "source": [
        "<a target=\"_blank\" href=\"https://colab.research.google.com/github/lukebarousse/Python_Data_Analytics_Course/blob/main/4_Problems/1_04_Strings.ipynb\">\n",
        "  <img src=\"https://colab.research.google.com/assets/colab-badge.svg\" alt=\"Open In Colab\"/>\n",
        "</a>"
      ]
    },
    {
      "cell_type": "markdown",
      "id": "c03b0f9a",
      "metadata": {
        "id": "c03b0f9a"
      },
      "source": [
        "## 🟩 Convert to Uppercase (1.4.1)"
      ]
    },
    {
      "cell_type": "code",
      "execution_count": 1,
      "id": "ed154db0",
      "metadata": {
        "id": "ed154db0",
        "outputId": "57a6fa50-c634-4dc3-bb75-74991c822fbf",
        "colab": {
          "base_uri": "https://localhost:8080/",
          "height": 36
        }
      },
      "outputs": [
        {
          "output_type": "execute_result",
          "data": {
            "text/plain": [
              "'DATA SCIENTIST'"
            ],
            "application/vnd.google.colaboratory.intrinsic+json": {
              "type": "string"
            }
          },
          "metadata": {},
          "execution_count": 1
        }
      ],
      "source": [
        "# Code Needed\n",
        "job_title = 'data scientist'\n",
        "job_title.upper()"
      ]
    },
    {
      "cell_type": "markdown",
      "id": "352397ff",
      "metadata": {
        "id": "352397ff"
      },
      "source": [
        "---"
      ]
    },
    {
      "cell_type": "markdown",
      "id": "4203b265",
      "metadata": {
        "id": "4203b265"
      },
      "source": [
        "## 🟩 Replace Substring (1.4.2)"
      ]
    },
    {
      "cell_type": "code",
      "execution_count": 2,
      "id": "9088a3fb",
      "metadata": {
        "id": "9088a3fb",
        "outputId": "0a19dbd5-b848-4721-a163-196c79be2966",
        "colab": {
          "base_uri": "https://localhost:8080/",
          "height": 36
        }
      },
      "outputs": [
        {
          "output_type": "execute_result",
          "data": {
            "text/plain": [
              "'Doto Analyst'"
            ],
            "application/vnd.google.colaboratory.intrinsic+json": {
              "type": "string"
            }
          },
          "metadata": {},
          "execution_count": 2
        }
      ],
      "source": [
        "# Code Needed\n",
        "job_title = 'Data Analyst'\n",
        "job_title.replace('Data','Doto')"
      ]
    },
    {
      "cell_type": "markdown",
      "id": "d3b7cb4d",
      "metadata": {
        "id": "d3b7cb4d"
      },
      "source": [
        "---"
      ]
    },
    {
      "cell_type": "markdown",
      "id": "23c6e347",
      "metadata": {
        "id": "23c6e347"
      },
      "source": [
        "## 🟨 Concatenate Strings (1.4.3)"
      ]
    },
    {
      "cell_type": "code",
      "execution_count": 3,
      "id": "1c7fb9f8",
      "metadata": {
        "id": "1c7fb9f8",
        "outputId": "ae4239f0-6735-4779-c7ca-079144d1b6ea",
        "colab": {
          "base_uri": "https://localhost:8080/",
          "height": 36
        }
      },
      "outputs": [
        {
          "output_type": "execute_result",
          "data": {
            "text/plain": [
              "'SeniorData Analyst'"
            ],
            "application/vnd.google.colaboratory.intrinsic+json": {
              "type": "string"
            }
          },
          "metadata": {},
          "execution_count": 3
        }
      ],
      "source": [
        "# Code Needed\n",
        "seniority_level = 'Senior'\n",
        "job_title = 'Data Analyst'\n",
        "new_string = seniority_level + job_title\n",
        "new_string"
      ]
    },
    {
      "cell_type": "markdown",
      "id": "cc76f111",
      "metadata": {
        "id": "cc76f111"
      },
      "source": [
        "---"
      ]
    },
    {
      "cell_type": "markdown",
      "id": "ec722767",
      "metadata": {
        "id": "ec722767"
      },
      "source": [
        "## 🟨 Check String Length (1.4.4)"
      ]
    },
    {
      "cell_type": "code",
      "execution_count": 4,
      "id": "9f81d0d5",
      "metadata": {
        "id": "9f81d0d5",
        "outputId": "2b77bf91-44a2-4363-fd4f-c5201392a51e",
        "colab": {
          "base_uri": "https://localhost:8080/"
        }
      },
      "outputs": [
        {
          "output_type": "execute_result",
          "data": {
            "text/plain": [
              "14"
            ]
          },
          "metadata": {},
          "execution_count": 4
        }
      ],
      "source": [
        "# Code Needed\n",
        "job_title = 'Data Scientist'\n",
        "len(job_title)"
      ]
    },
    {
      "cell_type": "markdown",
      "id": "4a8d3a3c",
      "metadata": {
        "id": "4a8d3a3c"
      },
      "source": [
        "---"
      ]
    },
    {
      "cell_type": "markdown",
      "id": "c41c4f1a",
      "metadata": {
        "id": "c41c4f1a"
      },
      "source": [
        "## 🟩 Convert to lowercase (1.4.5)"
      ]
    },
    {
      "cell_type": "code",
      "execution_count": 5,
      "id": "74a3336c",
      "metadata": {
        "id": "74a3336c",
        "outputId": "a0fff917-4e4b-4c80-cebd-b16191c38a43",
        "colab": {
          "base_uri": "https://localhost:8080/",
          "height": 36
        }
      },
      "outputs": [
        {
          "output_type": "execute_result",
          "data": {
            "text/plain": [
              "'data engineer'"
            ],
            "application/vnd.google.colaboratory.intrinsic+json": {
              "type": "string"
            }
          },
          "metadata": {},
          "execution_count": 5
        }
      ],
      "source": [
        "# Code Needed\n",
        "job_title = 'DATA ENGINEER'\n",
        "job_title.lower()"
      ]
    },
    {
      "cell_type": "markdown",
      "id": "bfce44ab",
      "metadata": {
        "id": "bfce44ab"
      },
      "source": [
        "---"
      ]
    }
  ],
  "metadata": {
    "colab": {
      "provenance": []
    },
    "language_info": {
      "name": "python"
    },
    "kernelspec": {
      "name": "python3",
      "display_name": "Python 3"
    }
  },
  "nbformat": 4,
  "nbformat_minor": 5
}