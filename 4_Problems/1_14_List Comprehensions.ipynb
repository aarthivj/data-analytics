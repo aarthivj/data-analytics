{
  "cells": [
    {
      "cell_type": "markdown",
      "id": "d867f31c",
      "metadata": {
        "id": "d867f31c"
      },
      "source": [
        "<a target=\"_blank\" href=\"https://colab.research.google.com/github/lukebarousse/Python_Data_Analytics_Course/blob/main/4_Problems/1_14_List Comprehensions.ipynb\">\n",
        "  <img src=\"https://colab.research.google.com/assets/colab-badge.svg\" alt=\"Open In Colab\"/>\n",
        "</a>"
      ]
    },
    {
      "cell_type": "markdown",
      "id": "9fbee277",
      "metadata": {
        "id": "9fbee277"
      },
      "source": [
        "## 🟩 Convert Salaries to EUR (1.14.1)"
      ]
    },
    {
      "cell_type": "code",
      "execution_count": 2,
      "id": "9bf35e2c",
      "metadata": {
        "colab": {
          "base_uri": "https://localhost:8080/"
        },
        "id": "9bf35e2c",
        "outputId": "818c9e03-5aa0-4982-9ff7-bb81ceb1b1c2"
      },
      "outputs": [
        {
          "output_type": "stream",
          "name": "stdout",
          "text": [
            "['€100,000.00', '€120,000.00', '€80,000.00', '€90,000.00']\n"
          ]
        }
      ],
      "source": [
        "# Code Needed\n",
        "salaries_usd = [100000, 120000, 80000, 90000]\n",
        "salary  = [f\"€{amount:,.2f}\" for amount in salaries_usd]\n",
        "print(salary)"
      ]
    },
    {
      "cell_type": "markdown",
      "id": "b39ae7d7",
      "metadata": {
        "id": "b39ae7d7"
      },
      "source": [
        "---"
      ]
    },
    {
      "cell_type": "markdown",
      "id": "9f4449d5",
      "metadata": {
        "id": "9f4449d5"
      },
      "source": [
        "## 🟨 Create List of Data Jobs (1.14.2)"
      ]
    },
    {
      "cell_type": "code",
      "execution_count": 3,
      "id": "9bbcdc8f",
      "metadata": {
        "colab": {
          "base_uri": "https://localhost:8080/"
        },
        "id": "9bbcdc8f",
        "outputId": "5d6a055a-a0a0-47fc-8da3-24b33cae43e9"
      },
      "outputs": [
        {
          "output_type": "stream",
          "name": "stdout",
          "text": [
            "['Data Scientist', 'Data Analyst', 'Machine Learning Specialist', 'Data Engineer']\n"
          ]
        }
      ],
      "source": [
        "# Code Needed\n",
        "job_experience = {'Data Scientist': 3, 'Data Analyst': 1, 'Machine Learning Specialist': 4, 'Data Engineer': 2}\n",
        "print(list(job_experience))"
      ]
    },
    {
      "cell_type": "markdown",
      "id": "7df2d173",
      "metadata": {
        "id": "7df2d173"
      },
      "source": [
        "---"
      ]
    },
    {
      "cell_type": "markdown",
      "id": "1e81b0cb",
      "metadata": {
        "id": "1e81b0cb"
      },
      "source": [
        "## 🟥 Extract High Salary Jobs (1.14.3)"
      ]
    },
    {
      "cell_type": "code",
      "execution_count": 17,
      "id": "c3d8887b",
      "metadata": {
        "colab": {
          "base_uri": "https://localhost:8080/"
        },
        "id": "c3d8887b",
        "outputId": "7827a3e5-5559-4a57-f325-a1fbda048f90"
      },
      "outputs": [
        {
          "output_type": "stream",
          "name": "stdout",
          "text": [
            "[100000, 120000, 80000, 90000]\n"
          ]
        },
        {
          "output_type": "execute_result",
          "data": {
            "text/plain": [
              "120000"
            ]
          },
          "metadata": {},
          "execution_count": 17
        }
      ],
      "source": [
        "# Code Needed\n",
        "job_salary_dicts = [{'job_title': 'Data Scientist', 'salary': 100000}, {'job_title': 'Data Analyst', 'salary': 120000}, {'job_title': 'Data Engineer', 'salary': 80000}, {'job_title': 'Machine Learning Engineer', 'salary': 90000}]\n",
        "salaries = []\n",
        "for key in job_salary_dicts:\n",
        " #print(key['salary'])\n",
        " salaries.append(key['salary'])\n",
        "print(salaries)\n",
        "max(salaries)\n",
        "\n"
      ]
    },
    {
      "cell_type": "markdown",
      "id": "fb79abd5",
      "metadata": {
        "id": "fb79abd5"
      },
      "source": [
        "---"
      ]
    }
  ],
  "metadata": {
    "colab": {
      "provenance": []
    },
    "language_info": {
      "name": "python"
    },
    "kernelspec": {
      "name": "python3",
      "display_name": "Python 3"
    }
  },
  "nbformat": 4,
  "nbformat_minor": 5
}