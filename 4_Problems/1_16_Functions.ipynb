{
  "cells": [
    {
      "cell_type": "markdown",
      "id": "47f7f9a6",
      "metadata": {
        "id": "47f7f9a6"
      },
      "source": [
        "<a target=\"_blank\" href=\"https://colab.research.google.com/github/lukebarousse/Python_Data_Analytics_Course/blob/main/4_Problems/1_16_Functions.ipynb\">\n",
        "  <img src=\"https://colab.research.google.com/assets/colab-badge.svg\" alt=\"Open In Colab\"/>\n",
        "</a>"
      ]
    },
    {
      "cell_type": "markdown",
      "id": "1db181cf",
      "metadata": {
        "id": "1db181cf"
      },
      "source": [
        "## 🟩 Job Title Contains (1.16.1)"
      ]
    },
    {
      "cell_type": "code",
      "execution_count": 1,
      "id": "740b79a1",
      "metadata": {
        "id": "740b79a1",
        "outputId": "8270c301-cfc8-40ac-c844-e8912d04d2c9",
        "colab": {
          "base_uri": "https://localhost:8080/"
        }
      },
      "outputs": [
        {
          "output_type": "execute_result",
          "data": {
            "text/plain": [
              "True"
            ]
          },
          "metadata": {},
          "execution_count": 1
        }
      ],
      "source": [
        "# Code Needed\n",
        "job_title = 'Data Scientist'\n",
        "keyword = 'Data'\n",
        "'Data' in job_title"
      ]
    },
    {
      "cell_type": "markdown",
      "id": "1732d805",
      "metadata": {
        "id": "1732d805"
      },
      "source": [
        "---"
      ]
    },
    {
      "cell_type": "markdown",
      "id": "14e34822",
      "metadata": {
        "id": "14e34822"
      },
      "source": [
        "## 🟩 Average Salary (1.16.2)"
      ]
    },
    {
      "cell_type": "code",
      "execution_count": 34,
      "id": "7662927c",
      "metadata": {
        "id": "7662927c",
        "outputId": "a21cf077-b160-498f-967c-1b6ba1f78827",
        "colab": {
          "base_uri": "https://localhost:8080/"
        }
      },
      "outputs": [
        {
          "output_type": "stream",
          "name": "stdout",
          "text": [
            "110000.0\n"
          ]
        }
      ],
      "source": [
        "# Code Needed\n",
        "salaries = [95000, 120000, 105000, 90000, 130000]\n",
        "minimum = min(salaries)\n",
        "maximum = max(salaries)\n",
        "average_salary =( minimum + maximum ) / 2\n",
        "print(average_salary)"
      ]
    },
    {
      "cell_type": "markdown",
      "id": "1e9a1c7b",
      "metadata": {
        "id": "1e9a1c7b"
      },
      "source": [
        "---"
      ]
    },
    {
      "cell_type": "markdown",
      "id": "21247fbc",
      "metadata": {
        "id": "21247fbc"
      },
      "source": [
        "## 🟨 Salary Statistics (1.16.3)"
      ]
    },
    {
      "cell_type": "code",
      "execution_count": 45,
      "id": "a1b6cf11",
      "metadata": {
        "id": "a1b6cf11",
        "outputId": "d0f79162-15c5-4a15-cada-ecb7f483ce70",
        "colab": {
          "base_uri": "https://localhost:8080/"
        }
      },
      "outputs": [
        {
          "output_type": "stream",
          "name": "stdout",
          "text": [
            "The average of salaries :  110000.0\n",
            "The median of salaries :  105000\n",
            "The mean of salaries :  108000\n"
          ]
        }
      ],
      "source": [
        "# Code Needed\n",
        "import statistics\n",
        "salaries = [95000, 120000, 105000, 90000, 130000]\n",
        "salary_1 = min(salaries)\n",
        "salary_2 = max(salaries)\n",
        "average_sal = (salary_1 + salary_2) / 2\n",
        "print(\"The average of salaries : \", average_sal)\n",
        "salary_3 = statistics.median(salaries)\n",
        "print(\"The median of salaries : \", salary_3)\n",
        "salary_4 = statistics.mean(salaries)\n",
        "print(\"The mean of salaries : \" ,salary_4)\n"
      ]
    },
    {
      "cell_type": "markdown",
      "id": "99eed404",
      "metadata": {
        "id": "99eed404"
      },
      "source": [
        "---"
      ]
    },
    {
      "cell_type": "markdown",
      "id": "e833849f",
      "metadata": {
        "id": "e833849f"
      },
      "source": [
        "## 🟥 Job Posting Summary (1.16.4)"
      ]
    },
    {
      "cell_type": "code",
      "execution_count": 63,
      "id": "cb857ad6",
      "metadata": {
        "id": "cb857ad6",
        "outputId": "797e269c-b1d9-4544-dcf8-ed2eff23be93",
        "colab": {
          "base_uri": "https://localhost:8080/"
        }
      },
      "outputs": [
        {
          "output_type": "stream",
          "name": "stdout",
          "text": [
            "[{'title': 'Data Scientist', 'location': 'New York', 'salary': 95000}, {'title': 'Machine Learning Engineer', 'location': 'New York', 'salary': 115000}]\n",
            "[{'title': 'Data Analyst', 'location': 'San Francisco', 'salary': 85000}, {'title': 'Data Scientist', 'location': 'New York', 'salary': 95000}, {'title': 'Machine Learning Engineer', 'location': 'New York', 'salary': 115000}]\n"
          ]
        }
      ],
      "source": [
        "# Code Needed\n",
        "job_postings = [\n",
        "    {'title': 'Data Scientist', 'location': 'New York', 'salary': 95000},\n",
        "    {'title': 'Data Analyst', 'location': 'San Francisco', 'salary': 85000},\n",
        "    {'title': 'Machine Learning Engineer', 'location': 'New York', 'salary': 115000}\n",
        "]\n",
        "location = [job for job in job_postings if job['location']=='New York']\n",
        "print(location)\n",
        "job_postings.sort(key = lambda x: x['salary'])\n",
        "print(job_postings)"
      ]
    },
    {
      "cell_type": "markdown",
      "id": "8b082c95",
      "metadata": {
        "id": "8b082c95"
      },
      "source": [
        "---"
      ]
    }
  ],
  "metadata": {
    "colab": {
      "provenance": []
    },
    "language_info": {
      "name": "python"
    },
    "kernelspec": {
      "name": "python3",
      "display_name": "Python 3"
    }
  },
  "nbformat": 4,
  "nbformat_minor": 5
}