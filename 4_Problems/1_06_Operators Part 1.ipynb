{
  "cells": [
    {
      "cell_type": "markdown",
      "id": "8ab55aca",
      "metadata": {
        "id": "8ab55aca"
      },
      "source": [
        "<a target=\"_blank\" href=\"https://colab.research.google.com/github/lukebarousse/Python_Data_Analytics_Course/blob/main/4_Problems/1_06_Operators Part 1.ipynb\">\n",
        "  <img src=\"https://colab.research.google.com/assets/colab-badge.svg\" alt=\"Open In Colab\"/>\n",
        "</a>"
      ]
    },
    {
      "cell_type": "markdown",
      "id": "5c28e09e",
      "metadata": {
        "id": "5c28e09e"
      },
      "source": [
        "## 🟩 Calculate Annual Salary (1.6.1)"
      ]
    },
    {
      "cell_type": "code",
      "execution_count": 1,
      "id": "f5eae247",
      "metadata": {
        "id": "f5eae247",
        "outputId": "510ae9e9-264a-400a-bedc-4cd7b9c36dae",
        "colab": {
          "base_uri": "https://localhost:8080/"
        }
      },
      "outputs": [
        {
          "output_type": "execute_result",
          "data": {
            "text/plain": [
              "96000"
            ]
          },
          "metadata": {},
          "execution_count": 1
        }
      ],
      "source": [
        "# Code Needed\n",
        "monthly_salary = 8000\n",
        "annual_sal = monthly_salary * 12\n",
        "annual_sal"
      ]
    },
    {
      "cell_type": "markdown",
      "id": "75a63b15",
      "metadata": {
        "id": "75a63b15"
      },
      "source": [
        "---"
      ]
    },
    {
      "cell_type": "markdown",
      "id": "9f50032f",
      "metadata": {
        "id": "9f50032f"
      },
      "source": [
        "## 🟩 Compare Salaries (1.6.2)"
      ]
    },
    {
      "cell_type": "code",
      "execution_count": 2,
      "id": "d74e5eec",
      "metadata": {
        "id": "d74e5eec",
        "outputId": "5ce9c253-eefa-454d-ce63-6190c5838df4",
        "colab": {
          "base_uri": "https://localhost:8080/"
        }
      },
      "outputs": [
        {
          "output_type": "stream",
          "name": "stdout",
          "text": [
            "scientist salary is higher\n"
          ]
        }
      ],
      "source": [
        "# Code Needed\n",
        "avg_salary_analyst = 70000\n",
        "avg_salary_scientist = 85000\n",
        "if avg_salary_analyst > avg_salary_scientist:\n",
        "  print(\"analyst salary is higher\")\n",
        "else:\n",
        "  print(\"scientist salary is higher\")"
      ]
    },
    {
      "cell_type": "markdown",
      "id": "53cabe65",
      "metadata": {
        "id": "53cabe65"
      },
      "source": [
        "---"
      ]
    },
    {
      "cell_type": "markdown",
      "id": "a0898aab",
      "metadata": {
        "id": "a0898aab"
      },
      "source": [
        "## 🟨 Calculate Remainder (1.6.3)"
      ]
    },
    {
      "cell_type": "code",
      "execution_count": 3,
      "id": "97e2ce73",
      "metadata": {
        "id": "97e2ce73",
        "outputId": "fca730ce-b6e0-4742-ed4c-7b2da7b4e931",
        "colab": {
          "base_uri": "https://localhost:8080/"
        }
      },
      "outputs": [
        {
          "output_type": "execute_result",
          "data": {
            "text/plain": [
              "56"
            ]
          },
          "metadata": {},
          "execution_count": 3
        }
      ],
      "source": [
        "# Code Needed\n",
        "total_applications = 123\n",
        "job_openings = 67\n",
        "remainder = total_applications % job_openings\n",
        "remainder\n",
        "\n"
      ]
    },
    {
      "cell_type": "markdown",
      "id": "f069d320",
      "metadata": {
        "id": "f069d320"
      },
      "source": [
        "---"
      ]
    },
    {
      "cell_type": "markdown",
      "id": "45fb92ab",
      "metadata": {
        "id": "45fb92ab"
      },
      "source": [
        "## 🟨 Increment Job Postings (1.6.4)"
      ]
    },
    {
      "cell_type": "code",
      "execution_count": 6,
      "id": "c05ce14e",
      "metadata": {
        "id": "c05ce14e",
        "outputId": "ea17fabf-6eb7-42a9-c96d-fd3d3ed83643",
        "colab": {
          "base_uri": "https://localhost:8080/"
        }
      },
      "outputs": [
        {
          "output_type": "execute_result",
          "data": {
            "text/plain": [
              "30"
            ]
          },
          "metadata": {},
          "execution_count": 6
        }
      ],
      "source": [
        "# Code Needed\n",
        "job_postings = 20\n",
        "job_postings += 10\n",
        "job_postings"
      ]
    },
    {
      "cell_type": "markdown",
      "id": "c4bf5251",
      "metadata": {
        "id": "c4bf5251"
      },
      "source": [
        "---"
      ]
    },
    {
      "cell_type": "markdown",
      "id": "ffe080db",
      "metadata": {
        "id": "ffe080db"
      },
      "source": [
        "## 🟨 Calculate Average Salary (1.6.5)"
      ]
    },
    {
      "cell_type": "code",
      "execution_count": 8,
      "id": "c5bb9dc1",
      "metadata": {
        "id": "c5bb9dc1",
        "outputId": "25b5955e-dcbf-43fd-b5fd-bf12b5beacc7",
        "colab": {
          "base_uri": "https://localhost:8080/"
        }
      },
      "outputs": [
        {
          "output_type": "execute_result",
          "data": {
            "text/plain": [
              "85000.0"
            ]
          },
          "metadata": {},
          "execution_count": 8
        }
      ],
      "source": [
        "# Code Needed\n",
        "min_salary = 50000\n",
        "max_salary = 120000\n",
        "average_sal = ( min_salary + max_salary) / 2\n",
        "average_sal"
      ]
    },
    {
      "cell_type": "markdown",
      "id": "156db404",
      "metadata": {
        "id": "156db404"
      },
      "source": [
        "---"
      ]
    }
  ],
  "metadata": {
    "language_info": {
      "name": "python"
    },
    "colab": {
      "provenance": []
    },
    "kernelspec": {
      "name": "python3",
      "display_name": "Python 3"
    }
  },
  "nbformat": 4,
  "nbformat_minor": 5
}