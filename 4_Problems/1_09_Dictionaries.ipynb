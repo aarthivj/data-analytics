{
  "cells": [
    {
      "cell_type": "markdown",
      "id": "a0409ef1",
      "metadata": {
        "id": "a0409ef1"
      },
      "source": [
        "<a target=\"_blank\" href=\"https://colab.research.google.com/github/lukebarousse/Python_Data_Analytics_Course/blob/main/4_Problems/1_09_Dictionaries.ipynb\">\n",
        "  <img src=\"https://colab.research.google.com/assets/colab-badge.svg\" alt=\"Open In Colab\"/>\n",
        "</a>"
      ]
    },
    {
      "cell_type": "markdown",
      "id": "e9170a0a",
      "metadata": {
        "id": "e9170a0a"
      },
      "source": [
        "## 🟩 Access Job Postings (1.9.1)"
      ]
    },
    {
      "cell_type": "code",
      "execution_count": 4,
      "id": "c94b145c",
      "metadata": {
        "id": "c94b145c",
        "outputId": "3a9c960a-d10f-430e-db49-a9882e928f76",
        "colab": {
          "base_uri": "https://localhost:8080/"
        }
      },
      "outputs": [
        {
          "output_type": "execute_result",
          "data": {
            "text/plain": [
              "120"
            ]
          },
          "metadata": {},
          "execution_count": 4
        }
      ],
      "source": [
        "# Code Needed\n",
        "job_postings = {'Data Scientist': 120, 'Data Analyst': 80, 'Machine Learning Engineer': 50}\n",
        "job_postings['Data Scientist']"
      ]
    },
    {
      "cell_type": "markdown",
      "id": "6206eea6",
      "metadata": {
        "id": "6206eea6"
      },
      "source": [
        "---"
      ]
    },
    {
      "cell_type": "markdown",
      "id": "9a967eb2",
      "metadata": {
        "id": "9a967eb2"
      },
      "source": [
        "## 🟩 Add Job Role (1.9.2)"
      ]
    },
    {
      "cell_type": "code",
      "execution_count": 10,
      "id": "e142f46f",
      "metadata": {
        "id": "e142f46f",
        "outputId": "e82362f0-df07-4c0e-87ec-a831500b7ea7",
        "colab": {
          "base_uri": "https://localhost:8080/"
        }
      },
      "outputs": [
        {
          "output_type": "execute_result",
          "data": {
            "text/plain": [
              "{'Data Scientist': 120,\n",
              " 'Data Analyst': 80,\n",
              " 'Machine Learning Engineer': 50,\n",
              " 'AI Engg': 23}"
            ]
          },
          "metadata": {},
          "execution_count": 10
        }
      ],
      "source": [
        "# Code Needed\n",
        "job_postings = {'Data Scientist': 120, 'Data Analyst': 80, 'Machine Learning Engineer': 50}\n",
        "job_postings.update({\"AI Engg\":23})\n",
        "job_postings"
      ]
    },
    {
      "cell_type": "markdown",
      "id": "3305a885",
      "metadata": {
        "id": "3305a885"
      },
      "source": [
        "---"
      ]
    },
    {
      "cell_type": "markdown",
      "id": "9d1a27ec",
      "metadata": {
        "id": "9d1a27ec"
      },
      "source": [
        "## 🟨 Remove Job Role (1.9.3)"
      ]
    },
    {
      "cell_type": "code",
      "execution_count": 15,
      "id": "3e97c9cc",
      "metadata": {
        "id": "3e97c9cc",
        "outputId": "2e768b8b-17b9-49f0-8007-16b424591553",
        "colab": {
          "base_uri": "https://localhost:8080/"
        }
      },
      "outputs": [
        {
          "output_type": "execute_result",
          "data": {
            "text/plain": [
              "120"
            ]
          },
          "metadata": {},
          "execution_count": 15
        }
      ],
      "source": [
        "# Code Needed\n",
        "job_postings = {'Data Scientist': 120, 'Data Analyst': 80, 'Machine Learning Engineer': 50}\n",
        "job_postings.pop(\"Data Scientist\")"
      ]
    },
    {
      "cell_type": "markdown",
      "id": "4e805b06",
      "metadata": {
        "id": "4e805b06"
      },
      "source": [
        "---"
      ]
    },
    {
      "cell_type": "markdown",
      "id": "bb334124",
      "metadata": {
        "id": "bb334124"
      },
      "source": [
        "## 🟨 Merge Dictionaries (1.9.4)"
      ]
    },
    {
      "cell_type": "code",
      "execution_count": 20,
      "id": "d2fd3ae2",
      "metadata": {
        "id": "d2fd3ae2",
        "outputId": "5047e159-ccba-4ee1-8637-8c7fefe2e4b6",
        "colab": {
          "base_uri": "https://localhost:8080/"
        }
      },
      "outputs": [
        {
          "output_type": "execute_result",
          "data": {
            "text/plain": [
              "{'Data Scientist': 120,\n",
              " 'Data Analyst': 80,\n",
              " 'Machine Learning Engineer': 50,\n",
              " 'AI Specialist': 30}"
            ]
          },
          "metadata": {},
          "execution_count": 20
        }
      ],
      "source": [
        "# Code Needed\n",
        "job_postings1 = {'Data Scientist': 120, 'Data Analyst': 80}\n",
        "job_postings2 = {'Machine Learning Engineer': 50, 'AI Specialist': 30}\n",
        "job_postings1.update(job_postings2)\n",
        "job_postings1"
      ]
    },
    {
      "cell_type": "markdown",
      "id": "b61f7b57",
      "metadata": {
        "id": "b61f7b57"
      },
      "source": [
        "---"
      ]
    },
    {
      "cell_type": "markdown",
      "id": "791a349d",
      "metadata": {
        "id": "791a349d"
      },
      "source": [
        "## 🟥 Create Nested Dictionary (1.9.5)"
      ]
    },
    {
      "cell_type": "code",
      "execution_count": 22,
      "id": "b5acf180",
      "metadata": {
        "id": "b5acf180",
        "outputId": "4eb85d96-7304-4020-f849-875cefe74290",
        "colab": {
          "base_uri": "https://localhost:8080/"
        }
      },
      "outputs": [
        {
          "output_type": "execute_result",
          "data": {
            "text/plain": [
              "{'Name': 'Aarthi',\n",
              " 'Age': 23,\n",
              " 'Marks': {'Science': 97, 'Maths': 99, 'Social': 100}}"
            ]
          },
          "metadata": {},
          "execution_count": 22
        }
      ],
      "source": [
        "student = {'Name':'Aarthi','Age':23,'Marks':{'Science':97,'Maths':99,'Social':100}}\n",
        "student"
      ]
    },
    {
      "cell_type": "markdown",
      "id": "30d9f6d7",
      "metadata": {
        "id": "30d9f6d7"
      },
      "source": [
        "---"
      ]
    }
  ],
  "metadata": {
    "colab": {
      "provenance": []
    },
    "language_info": {
      "name": "python"
    },
    "kernelspec": {
      "name": "python3",
      "display_name": "Python 3"
    }
  },
  "nbformat": 4,
  "nbformat_minor": 5
}