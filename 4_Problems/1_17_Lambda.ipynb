{
  "cells": [
    {
      "cell_type": "markdown",
      "id": "fb3e5a5f",
      "metadata": {
        "id": "fb3e5a5f"
      },
      "source": [
        "<a target=\"_blank\" href=\"https://colab.research.google.com/github/lukebarousse/Python_Data_Analytics_Course/blob/main/4_Problems/1_17_Lambda.ipynb\">\n",
        "  <img src=\"https://colab.research.google.com/assets/colab-badge.svg\" alt=\"Open In Colab\"/>\n",
        "</a>"
      ]
    },
    {
      "cell_type": "markdown",
      "id": "d1f5cdd2",
      "metadata": {
        "id": "d1f5cdd2"
      },
      "source": [
        "## 🟩 Calculate Average Salary (1.17.1)"
      ]
    },
    {
      "cell_type": "code",
      "execution_count": 2,
      "id": "d1091543",
      "metadata": {
        "id": "d1091543",
        "outputId": "aba5b79f-c457-400b-bd23-a5fba7173cd2",
        "colab": {
          "base_uri": "https://localhost:8080/"
        }
      },
      "outputs": [
        {
          "output_type": "execute_result",
          "data": {
            "text/plain": [
              "108000"
            ]
          },
          "metadata": {},
          "execution_count": 2
        }
      ],
      "source": [
        "# Code Needed\n",
        "import statistics\n",
        "salaries = [95000, 120000, 105000, 90000, 130000]\n",
        "average_sal = statistics.mean(salaries)\n",
        "average_sal\n"
      ]
    },
    {
      "cell_type": "markdown",
      "id": "045da046",
      "metadata": {
        "id": "045da046"
      },
      "source": [
        "---"
      ]
    },
    {
      "cell_type": "markdown",
      "id": "5f3ad67e",
      "metadata": {
        "id": "5f3ad67e"
      },
      "source": [
        "## 🟨 Filter Job Titles (1.17.2)"
      ]
    },
    {
      "cell_type": "code",
      "execution_count": 11,
      "id": "cf09815a",
      "metadata": {
        "id": "cf09815a",
        "outputId": "8c572409-4b8e-4a7b-9097-aa37b61c2990",
        "colab": {
          "base_uri": "https://localhost:8080/"
        }
      },
      "outputs": [
        {
          "output_type": "stream",
          "name": "stdout",
          "text": [
            "['Data Scientist', 'Data Engineer', 'Data Analyst']\n"
          ]
        },
        {
          "output_type": "execute_result",
          "data": {
            "text/plain": [
              "['Data Engineer', 'Machine Learning Engineer']"
            ]
          },
          "metadata": {},
          "execution_count": 11
        }
      ],
      "source": [
        "# Code Needed\n",
        "job_titles = ['Data Scientist', 'Data Engineer', 'Machine Learning Engineer', 'Data Analyst']\n",
        "print(list(filter(lambda job : 'Data' in job, job_titles)))\n",
        "list(filter(lambda jobs : 'Engineer' in jobs , job_titles))"
      ]
    },
    {
      "cell_type": "markdown",
      "id": "e43299da",
      "metadata": {
        "id": "e43299da"
      },
      "source": [
        "---"
      ]
    },
    {
      "cell_type": "markdown",
      "id": "f0ba4566",
      "metadata": {
        "id": "f0ba4566"
      },
      "source": [
        "## 🟥 Filter Remote Python Jobs (1.17.3)"
      ]
    },
    {
      "cell_type": "code",
      "execution_count": 18,
      "id": "3c4339b8",
      "metadata": {
        "id": "3c4339b8",
        "outputId": "204c1485-1a4c-425e-fc0f-0e9d7ef9f2a9",
        "colab": {
          "base_uri": "https://localhost:8080/"
        }
      },
      "outputs": [
        {
          "output_type": "stream",
          "name": "stdout",
          "text": [
            "[{'title': 'Data Scientist', 'skills': ['Python', 'SQL'], 'remote': True}, {'title': 'Machine Learning Engineer', 'skills': ['Python', 'TensorFlow'], 'remote': True}, {'title': 'Software Developer', 'skills': ['Java', 'C++'], 'remote': True}]\n",
            "[{'title': 'Data Scientist', 'skills': ['Python', 'SQL'], 'remote': True}]\n"
          ]
        }
      ],
      "source": [
        "# Code Needed\n",
        "job_postings = [\n",
        "    {'title': 'Data Scientist', 'skills': ['Python', 'SQL'], 'remote': True},\n",
        "    {'title': 'Data Analyst', 'skills': ['Excel', 'SQL'], 'remote': False},\n",
        "    {'title': 'Machine Learning Engineer', 'skills': ['Python', 'TensorFlow'], 'remote': True},\n",
        "    {'title': 'Software Developer', 'skills': ['Java', 'C++'], 'remote': True}\n",
        "]\n",
        "print(list(filter(lambda job : job['remote'] , job_postings)))\n",
        "print(list(filter(lambda jobs : 'Python' in jobs['skills'] and 'SQL' in jobs['skills'],job_postings)))"
      ]
    },
    {
      "cell_type": "markdown",
      "id": "96baab4a",
      "metadata": {
        "id": "96baab4a"
      },
      "source": [
        "---"
      ]
    }
  ],
  "metadata": {
    "colab": {
      "provenance": []
    },
    "language_info": {
      "name": "python"
    },
    "kernelspec": {
      "name": "python3",
      "display_name": "Python 3"
    }
  },
  "nbformat": 4,
  "nbformat_minor": 5
}