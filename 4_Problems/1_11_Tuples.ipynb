{
  "cells": [
    {
      "cell_type": "markdown",
      "id": "20500a42",
      "metadata": {
        "id": "20500a42"
      },
      "source": [
        "<a target=\"_blank\" href=\"https://colab.research.google.com/github/lukebarousse/Python_Data_Analytics_Course/blob/main/4_Problems/1_11_Tuples.ipynb\">\n",
        "  <img src=\"https://colab.research.google.com/assets/colab-badge.svg\" alt=\"Open In Colab\"/>\n",
        "</a>"
      ]
    },
    {
      "cell_type": "markdown",
      "id": "5abdbe55",
      "metadata": {
        "id": "5abdbe55"
      },
      "source": [
        "## 🟩 Access Job Role (1.11.1)"
      ]
    },
    {
      "cell_type": "code",
      "execution_count": 1,
      "id": "1d281195",
      "metadata": {
        "id": "1d281195",
        "outputId": "065a2cc3-c6ba-4300-d410-77e68387cd83",
        "colab": {
          "base_uri": "https://localhost:8080/",
          "height": 36
        }
      },
      "outputs": [
        {
          "output_type": "execute_result",
          "data": {
            "text/plain": [
              "'Data Analyst'"
            ],
            "application/vnd.google.colaboratory.intrinsic+json": {
              "type": "string"
            }
          },
          "metadata": {},
          "execution_count": 1
        }
      ],
      "source": [
        "# Code Needed\n",
        "job_roles = ('Data Scientist', 'Data Analyst', 'Machine Learning Engineer')\n",
        "job_roles[1]"
      ]
    },
    {
      "cell_type": "markdown",
      "id": "55986731",
      "metadata": {
        "id": "55986731"
      },
      "source": [
        "---"
      ]
    },
    {
      "cell_type": "markdown",
      "id": "ff20fe2b",
      "metadata": {
        "id": "ff20fe2b"
      },
      "source": [
        "## 🟨 Add Job Role to Tuple (1.11.2)"
      ]
    },
    {
      "cell_type": "code",
      "execution_count": 8,
      "id": "3c540847",
      "metadata": {
        "id": "3c540847",
        "outputId": "95746e3e-7c82-4746-8162-1b488d9afdec",
        "colab": {
          "base_uri": "https://localhost:8080/"
        }
      },
      "outputs": [
        {
          "output_type": "execute_result",
          "data": {
            "text/plain": [
              "('Data Scientist', 'Data Analyst', 'Machine Learning Engineer', 'AI Engineer')"
            ]
          },
          "metadata": {},
          "execution_count": 8
        }
      ],
      "source": [
        "# Code Needed\n",
        "job_roles = ('Data Scientist', 'Data Analyst', 'Machine Learning Engineer')\n",
        "job_roles = job_roles + ('AI Engineer',)\n",
        "job_roles"
      ]
    },
    {
      "cell_type": "markdown",
      "id": "675ef461",
      "metadata": {
        "id": "675ef461"
      },
      "source": [
        "---"
      ]
    },
    {
      "cell_type": "markdown",
      "id": "790f26db",
      "metadata": {
        "id": "790f26db"
      },
      "source": [
        "## 🟨 Remove Job Role from Tuple (1.11.3)"
      ]
    },
    {
      "cell_type": "code",
      "execution_count": 16,
      "id": "0b7cb7af",
      "metadata": {
        "id": "0b7cb7af",
        "outputId": "839104ca-5854-488f-bc91-ed04de33f453",
        "colab": {
          "base_uri": "https://localhost:8080/"
        }
      },
      "outputs": [
        {
          "output_type": "execute_result",
          "data": {
            "text/plain": [
              "('Data Analyst', 'Machine Learning Engineer')"
            ]
          },
          "metadata": {},
          "execution_count": 16
        }
      ],
      "source": [
        "# Code Needed\n",
        "job_roles = ('Data Scientist', 'Data Analyst', 'Machine Learning Engineer')\n",
        "job_rules1 = list(job_roles)\n",
        "job_rules1.remove('Data Scientist')\n",
        "job_roles = tuple(job_rules1)\n",
        "job_roles"
      ]
    },
    {
      "cell_type": "markdown",
      "id": "ffb135cd",
      "metadata": {
        "id": "ffb135cd"
      },
      "source": [
        "---"
      ]
    },
    {
      "cell_type": "markdown",
      "id": "62a6e18a",
      "metadata": {
        "id": "62a6e18a"
      },
      "source": [
        "## 🟨 Unpack Job Postings Tuple (1.11.4)"
      ]
    },
    {
      "cell_type": "code",
      "execution_count": 17,
      "id": "bb771d79",
      "metadata": {
        "id": "bb771d79",
        "outputId": "c8d5ef35-f67c-4ff9-c7a9-f66579f390ba",
        "colab": {
          "base_uri": "https://localhost:8080/"
        }
      },
      "outputs": [
        {
          "output_type": "execute_result",
          "data": {
            "text/plain": [
              "(120, 80, 50)"
            ]
          },
          "metadata": {},
          "execution_count": 17
        }
      ],
      "source": [
        "# Code Needed\n",
        "job_postings = (120, 80, 50)\n",
        "job1,job2,job3 = job_postings\n",
        "job_postings"
      ]
    },
    {
      "cell_type": "markdown",
      "id": "ca603ef4",
      "metadata": {
        "id": "ca603ef4"
      },
      "source": [
        "---"
      ]
    },
    {
      "cell_type": "markdown",
      "id": "b0965dc7",
      "metadata": {
        "id": "b0965dc7"
      },
      "source": [
        "## 🟥 Extract Nested Value from Tuple (1.11.5)"
      ]
    },
    {
      "cell_type": "code",
      "execution_count": 18,
      "id": "704fad1b",
      "metadata": {
        "id": "704fad1b",
        "outputId": "0caf387f-274d-41ac-fd26-a52ecbf263cb",
        "colab": {
          "base_uri": "https://localhost:8080/"
        }
      },
      "outputs": [
        {
          "output_type": "execute_result",
          "data": {
            "text/plain": [
              "(('Data Scientist', 120),\n",
              " ('Data Analyst', 80),\n",
              " ('Machine Learning Engineer', 50))"
            ]
          },
          "metadata": {},
          "execution_count": 18
        }
      ],
      "source": [
        "# Code Needed\n",
        "job_details = (('Data Scientist', 120), ('Data Analyst', 80), ('Machine Learning Engineer', 50))\n",
        "job1,job2,job3 = job_details\n",
        "job_details"
      ]
    },
    {
      "cell_type": "markdown",
      "id": "78683f7a",
      "metadata": {
        "id": "78683f7a"
      },
      "source": [
        "---"
      ]
    }
  ],
  "metadata": {
    "colab": {
      "provenance": []
    },
    "language_info": {
      "name": "python"
    },
    "kernelspec": {
      "name": "python3",
      "display_name": "Python 3"
    }
  },
  "nbformat": 4,
  "nbformat_minor": 5
}