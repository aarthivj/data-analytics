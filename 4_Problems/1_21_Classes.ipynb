{
  "cells": [
    {
      "cell_type": "markdown",
      "id": "18a8d444",
      "metadata": {
        "id": "18a8d444"
      },
      "source": [
        "<a target=\"_blank\" href=\"https://colab.research.google.com/github/lukebarousse/Python_Data_Analytics_Course/blob/main/4_Problems/1_21_Classes.ipynb\">\n",
        "  <img src=\"https://colab.research.google.com/assets/colab-badge.svg\" alt=\"Open In Colab\"/>\n",
        "</a>"
      ]
    },
    {
      "cell_type": "markdown",
      "id": "edc8a40a",
      "metadata": {
        "id": "edc8a40a"
      },
      "source": [
        "## 🟩 Create JobPosting Class (1.21.1)"
      ]
    },
    {
      "cell_type": "code",
      "execution_count": 9,
      "id": "26bdb6dc",
      "metadata": {
        "id": "26bdb6dc"
      },
      "outputs": [],
      "source": [
        "from types import resolve_bases\n",
        "# Create the JobPostings class in this code cell\n",
        "class JobPosting:\n",
        "  def __init__(self,role,company,place):\n",
        "    self.role = role\n",
        "    self.company = company\n",
        "    self.place = place\n",
        "\n"
      ]
    },
    {
      "cell_type": "code",
      "execution_count": 12,
      "id": "2461f7a5",
      "metadata": {
        "id": "2461f7a5"
      },
      "outputs": [],
      "source": [
        "# Code Needed\n",
        "job = JobPosting('Data Scientist', 'Tech Innovations', 'New York')"
      ]
    },
    {
      "cell_type": "markdown",
      "id": "98b6caff",
      "metadata": {
        "id": "98b6caff"
      },
      "source": [
        "---"
      ]
    },
    {
      "cell_type": "markdown",
      "id": "b152b78d",
      "metadata": {
        "id": "b152b78d"
      },
      "source": [
        "## 🟨 Convert to Dictionary (1.21.2)"
      ]
    },
    {
      "cell_type": "code",
      "execution_count": 17,
      "id": "82b617cd",
      "metadata": {
        "id": "82b617cd"
      },
      "outputs": [],
      "source": [
        "# Create the JobPostings class in this code cell\n",
        "class JobPosting:\n",
        "  def __init__(self,role,company,place,salary):\n",
        "    self.role = role\n",
        "    self.company = company\n",
        "    self.place = place\n",
        "    self.salary = salary\n",
        "\n",
        "  def to_dict(self):\n",
        "    return {\n",
        "      'role': self.role,\n",
        "      'company':self.company,\n",
        "      'place':self.place,\n",
        "      'salary':self.salary\n",
        "    }\n",
        "  pass"
      ]
    },
    {
      "cell_type": "code",
      "execution_count": 18,
      "id": "d1bc613a",
      "metadata": {
        "id": "d1bc613a",
        "outputId": "19c22fcd-d1e0-4716-cce8-a5047260a81a",
        "colab": {
          "base_uri": "https://localhost:8080/"
        }
      },
      "outputs": [
        {
          "output_type": "execute_result",
          "data": {
            "text/plain": [
              "{'role': 'Data Scientist',\n",
              " 'company': 'Tech Innovations',\n",
              " 'place': 'New York',\n",
              " 'salary': 120000}"
            ]
          },
          "metadata": {},
          "execution_count": 18
        }
      ],
      "source": [
        "# Code Needed\n",
        "job = JobPosting('Data Scientist', 'Tech Innovations', 'New York', 120000)\n",
        "job_dict = job.to_dict()\n",
        "job_dict\n"
      ]
    },
    {
      "cell_type": "markdown",
      "id": "68c9b6ec",
      "metadata": {
        "id": "68c9b6ec"
      },
      "source": [
        "---"
      ]
    },
    {
      "cell_type": "markdown",
      "id": "65b80ffe",
      "metadata": {
        "id": "65b80ffe"
      },
      "source": [
        "## 🟥 Compare Job Salaries (1.21.3)"
      ]
    },
    {
      "cell_type": "code",
      "execution_count": null,
      "id": "5d5cf1bd",
      "metadata": {
        "id": "5d5cf1bd"
      },
      "outputs": [],
      "source": [
        "# Create the JobPostings class in this code cell\n",
        "class JobPosting:\n",
        "  def __init__(self,role,company,place,salary):\n",
        "    self.role = role\n",
        "    self.company = company\n",
        "    self.place = place\n",
        "    self.salary = salary\n",
        ""
      ]
    },
    {
      "cell_type": "code",
      "execution_count": 21,
      "id": "5a6b25e4",
      "metadata": {
        "id": "5a6b25e4",
        "outputId": "97e793af-ca73-4d44-895f-4e35f9fe5bd4",
        "colab": {
          "base_uri": "https://localhost:8080/"
        }
      },
      "outputs": [
        {
          "output_type": "stream",
          "name": "stdout",
          "text": [
            "Job1 has higher salary\n"
          ]
        }
      ],
      "source": [
        "# Code Needed\n",
        "job1 = JobPosting('Data Scientist', 'Tech Innovations', 'New York', 120000)\n",
        "job2 = JobPosting('Data Analyst', 'Data Driven Co', 'San Francisco', 100000)\n",
        "if job1.salary > job2.salary:\n",
        "  print(\"Job1 has higher salary\")\n",
        "else:\n",
        "  print(\"job2 has higher salary\")"
      ]
    },
    {
      "cell_type": "markdown",
      "id": "0f083bf1",
      "metadata": {
        "id": "0f083bf1"
      },
      "source": [
        "---"
      ]
    }
  ],
  "metadata": {
    "language_info": {
      "name": "python"
    },
    "colab": {
      "provenance": []
    },
    "kernelspec": {
      "name": "python3",
      "display_name": "Python 3"
    }
  },
  "nbformat": 4,
  "nbformat_minor": 5
}