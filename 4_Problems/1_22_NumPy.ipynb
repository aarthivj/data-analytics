{
  "cells": [
    {
      "cell_type": "markdown",
      "id": "9135219d",
      "metadata": {
        "id": "9135219d"
      },
      "source": [
        "<a target=\"_blank\" href=\"https://colab.research.google.com/github/lukebarousse/Python_Data_Analytics_Course/blob/main/4_Problems/1_22_NumPy.ipynb\">\n",
        "  <img src=\"https://colab.research.google.com/assets/colab-badge.svg\" alt=\"Open In Colab\"/>\n",
        "</a>"
      ]
    },
    {
      "cell_type": "markdown",
      "id": "bc778d7f",
      "metadata": {
        "id": "bc778d7f"
      },
      "source": [
        "## 🟩 Create NumPy Array (1.22.1)"
      ]
    },
    {
      "cell_type": "code",
      "execution_count": 2,
      "id": "3b7e6275",
      "metadata": {
        "id": "3b7e6275",
        "outputId": "1721008e-0805-4a1c-cb04-2b4ef993dad6",
        "colab": {
          "base_uri": "https://localhost:8080/"
        }
      },
      "outputs": [
        {
          "output_type": "execute_result",
          "data": {
            "text/plain": [
              "array([10, 15,  7, 20, 25, 30,  5])"
            ]
          },
          "metadata": {},
          "execution_count": 2
        }
      ],
      "source": [
        "import numpy as np\n",
        "applications_list = [10, 15, 7, 20, 25, 30, 5]\n",
        "np.array(applications_list)"
      ]
    },
    {
      "cell_type": "markdown",
      "id": "e3e3b88b",
      "metadata": {
        "id": "e3e3b88b"
      },
      "source": [
        "---"
      ]
    },
    {
      "cell_type": "markdown",
      "id": "4b3869b5",
      "metadata": {
        "id": "4b3869b5"
      },
      "source": [
        "## 🟩 Slicing Array (1.22.2)"
      ]
    },
    {
      "cell_type": "code",
      "execution_count": 4,
      "id": "a3f8f040",
      "metadata": {
        "id": "a3f8f040",
        "outputId": "798e48b6-4a57-4bfc-fa3d-cacc57d980eb",
        "colab": {
          "base_uri": "https://localhost:8080/"
        }
      },
      "outputs": [
        {
          "output_type": "execute_result",
          "data": {
            "text/plain": [
              "[10, 15]"
            ]
          },
          "metadata": {},
          "execution_count": 4
        }
      ],
      "source": [
        "# Code Needed\n",
        "import numpy as np\n",
        "postings_list = [10, 15, 7, 20, 25, 30, 5]\n",
        "np.array(postings_list)\n",
        "postings_list[0:2]"
      ]
    },
    {
      "cell_type": "markdown",
      "id": "45a7a58a",
      "metadata": {
        "id": "45a7a58a"
      },
      "source": [
        "---"
      ]
    },
    {
      "cell_type": "markdown",
      "id": "7b1ebbe9",
      "metadata": {
        "id": "7b1ebbe9"
      },
      "source": [
        "## 🟨 Highest and Lowest Salary (1.22.3)"
      ]
    },
    {
      "cell_type": "code",
      "execution_count": 8,
      "id": "b62f9aed",
      "metadata": {
        "id": "b62f9aed",
        "outputId": "659d9c12-f28e-4fb0-afa9-41c4940e5325",
        "colab": {
          "base_uri": "https://localhost:8080/"
        }
      },
      "outputs": [
        {
          "output_type": "stream",
          "name": "stdout",
          "text": [
            "The minimum value 60000\n",
            "The maximum value 95000\n"
          ]
        }
      ],
      "source": [
        "# Code Needed\n",
        "import numpy as np\n",
        "salaries_list = [70000, 85000, 60000, 95000, 80000]\n",
        "np.array(salaries_list)\n",
        "print(\"The minimum value\", min(salaries_list))\n",
        "print(\"The maximum value\", max(salaries_list))"
      ]
    },
    {
      "cell_type": "markdown",
      "id": "65bf8796",
      "metadata": {
        "id": "65bf8796"
      },
      "source": [
        "---"
      ]
    }
  ],
  "metadata": {
    "language_info": {
      "name": "python"
    },
    "colab": {
      "provenance": []
    },
    "kernelspec": {
      "name": "python3",
      "display_name": "Python 3"
    }
  },
  "nbformat": 4,
  "nbformat_minor": 5
}