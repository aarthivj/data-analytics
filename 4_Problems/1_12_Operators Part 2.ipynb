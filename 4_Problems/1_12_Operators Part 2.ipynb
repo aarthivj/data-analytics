{
  "cells": [
    {
      "cell_type": "markdown",
      "id": "036c0cb0",
      "metadata": {
        "id": "036c0cb0"
      },
      "source": [
        "<a target=\"_blank\" href=\"https://colab.research.google.com/github/lukebarousse/Python_Data_Analytics_Course/blob/main/4_Problems/1_12_Operators Part 2.ipynb\">\n",
        "  <img src=\"https://colab.research.google.com/assets/colab-badge.svg\" alt=\"Open In Colab\"/>\n",
        "</a>"
      ]
    },
    {
      "cell_type": "markdown",
      "id": "e576e738",
      "metadata": {
        "id": "e576e738"
      },
      "source": [
        "## 🟩 Check Object Identity (1.12.1)"
      ]
    },
    {
      "cell_type": "code",
      "execution_count": 1,
      "id": "28d20b63",
      "metadata": {
        "id": "28d20b63",
        "outputId": "766c91db-06de-4ee4-85a5-e177cffe71dc",
        "colab": {
          "base_uri": "https://localhost:8080/"
        }
      },
      "outputs": [
        {
          "output_type": "execute_result",
          "data": {
            "text/plain": [
              "False"
            ]
          },
          "metadata": {},
          "execution_count": 1
        }
      ],
      "source": [
        "# Code Needed\n",
        "job_title1 = 'Data Engineer'\n",
        "job_title2 = 'Data Scientist'\n",
        "job_title1 is job_title2\n"
      ]
    },
    {
      "cell_type": "markdown",
      "id": "578c026c",
      "metadata": {
        "id": "578c026c"
      },
      "source": [
        "---"
      ]
    },
    {
      "cell_type": "markdown",
      "id": "55d410b4",
      "metadata": {
        "id": "55d410b4"
      },
      "source": [
        "## 🟩 Check Membership in List (1.12.2)"
      ]
    },
    {
      "cell_type": "code",
      "execution_count": 5,
      "id": "83716fca",
      "metadata": {
        "id": "83716fca",
        "outputId": "60476a72-ee3b-4845-9fc3-2bf27f4591f7",
        "colab": {
          "base_uri": "https://localhost:8080/"
        }
      },
      "outputs": [
        {
          "output_type": "stream",
          "name": "stdout",
          "text": [
            "True\n"
          ]
        },
        {
          "output_type": "execute_result",
          "data": {
            "text/plain": [
              "False"
            ]
          },
          "metadata": {},
          "execution_count": 5
        }
      ],
      "source": [
        "# Code Needed\n",
        "job_locations = ['New York', 'San Francisco', 'Austin']\n",
        "print(\"New York\" in job_locations)\n",
        "'San Francisco' not in job_locations"
      ]
    },
    {
      "cell_type": "markdown",
      "id": "3fea50ad",
      "metadata": {
        "id": "3fea50ad"
      },
      "source": [
        "---"
      ]
    },
    {
      "cell_type": "markdown",
      "id": "32e38743",
      "metadata": {
        "id": "32e38743"
      },
      "source": [
        "## 🟨 Check Substring Not in String (1.12.3)"
      ]
    },
    {
      "cell_type": "code",
      "execution_count": 7,
      "id": "cffe612f",
      "metadata": {
        "id": "cffe612f",
        "outputId": "970d5a7e-ed30-4ca7-aaa5-4e62a28646f9",
        "colab": {
          "base_uri": "https://localhost:8080/"
        }
      },
      "outputs": [
        {
          "output_type": "execute_result",
          "data": {
            "text/plain": [
              "False"
            ]
          },
          "metadata": {},
          "execution_count": 7
        }
      ],
      "source": [
        "# Code Needed\n",
        "job_title = 'Data Analyst'\n",
        "job_description = 'Data Scientist at Tech Corp'\n",
        "job_description in job_title"
      ]
    },
    {
      "cell_type": "markdown",
      "id": "2fe810e2",
      "metadata": {
        "id": "2fe810e2"
      },
      "source": [
        "---"
      ]
    },
    {
      "cell_type": "markdown",
      "id": "d93644ab",
      "metadata": {
        "id": "d93644ab"
      },
      "source": [
        "## 🟨 Check Multiple Memberships (1.12.4)"
      ]
    },
    {
      "cell_type": "code",
      "execution_count": 8,
      "id": "66430c97",
      "metadata": {
        "id": "66430c97",
        "outputId": "749c26c4-b17b-4211-b85a-f30b346673d6",
        "colab": {
          "base_uri": "https://localhost:8080/"
        }
      },
      "outputs": [
        {
          "output_type": "execute_result",
          "data": {
            "text/plain": [
              "True"
            ]
          },
          "metadata": {},
          "execution_count": 8
        }
      ],
      "source": [
        "# Code Needed\n",
        "job_titles = ['Data Scientist', 'Data Analyst', 'Machine Learning Engineer']\n",
        "'Data Scientist' and 'Data Analyst' in job_titles"
      ]
    },
    {
      "cell_type": "markdown",
      "id": "844a092e",
      "metadata": {
        "id": "844a092e"
      },
      "source": [
        "---"
      ]
    },
    {
      "cell_type": "markdown",
      "id": "98e8e55f",
      "metadata": {
        "id": "98e8e55f"
      },
      "source": [
        "## 🟥 Bitwise OR Operation (1.12.5)"
      ]
    },
    {
      "cell_type": "code",
      "execution_count": 14,
      "id": "c6f178cc",
      "metadata": {
        "id": "c6f178cc",
        "outputId": "61bb2a0b-2e1a-42e6-a3cb-5afb04412fda",
        "colab": {
          "base_uri": "https://localhost:8080/"
        }
      },
      "outputs": [
        {
          "output_type": "execute_result",
          "data": {
            "text/plain": [
              "116720"
            ]
          },
          "metadata": {},
          "execution_count": 14
        }
      ],
      "source": [
        "# Code Needed\n",
        "salary1 = 100000\n",
        "salary2 = 50000\n",
        "result = salary1 | salary2\n",
        "result"
      ]
    },
    {
      "cell_type": "markdown",
      "id": "13780309",
      "metadata": {
        "id": "13780309"
      },
      "source": [
        "---"
      ]
    }
  ],
  "metadata": {
    "colab": {
      "provenance": []
    },
    "language_info": {
      "name": "python"
    },
    "kernelspec": {
      "name": "python3",
      "display_name": "Python 3"
    }
  },
  "nbformat": 4,
  "nbformat_minor": 5
}