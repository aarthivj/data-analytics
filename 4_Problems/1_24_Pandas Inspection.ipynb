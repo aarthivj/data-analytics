{
  "cells": [
    {
      "cell_type": "markdown",
      "id": "afd62831",
      "metadata": {
        "id": "afd62831"
      },
      "source": [
        "<a target=\"_blank\" href=\"https://colab.research.google.com/github/lukebarousse/Python_Data_Analytics_Course/blob/main/4_Problems/1_24_Pandas Inspection.ipynb\">\n",
        "  <img src=\"https://colab.research.google.com/assets/colab-badge.svg\" alt=\"Open In Colab\"/>\n",
        "</a>"
      ]
    },
    {
      "cell_type": "code",
      "execution_count": 23,
      "id": "169fd3c4",
      "metadata": {
        "collapsed": true,
        "colab": {
          "base_uri": "https://localhost:8080/"
        },
        "id": "169fd3c4",
        "outputId": "43d310f1-adee-48b9-cfd1-b63c63a33c15"
      },
      "outputs": [
        {
          "output_type": "stream",
          "name": "stdout",
          "text": [
            "Requirement already satisfied: datasets in /usr/local/lib/python3.11/dist-packages (3.6.0)\n",
            "Requirement already satisfied: filelock in /usr/local/lib/python3.11/dist-packages (from datasets) (3.18.0)\n",
            "Requirement already satisfied: numpy>=1.17 in /usr/local/lib/python3.11/dist-packages (from datasets) (2.0.2)\n",
            "Requirement already satisfied: pyarrow>=15.0.0 in /usr/local/lib/python3.11/dist-packages (from datasets) (18.1.0)\n",
            "Requirement already satisfied: dill<0.3.9,>=0.3.0 in /usr/local/lib/python3.11/dist-packages (from datasets) (0.3.7)\n",
            "Requirement already satisfied: pandas in /usr/local/lib/python3.11/dist-packages (from datasets) (2.2.2)\n",
            "Requirement already satisfied: requests>=2.32.2 in /usr/local/lib/python3.11/dist-packages (from datasets) (2.32.3)\n",
            "Requirement already satisfied: tqdm>=4.66.3 in /usr/local/lib/python3.11/dist-packages (from datasets) (4.67.1)\n",
            "Requirement already satisfied: xxhash in /usr/local/lib/python3.11/dist-packages (from datasets) (3.5.0)\n",
            "Requirement already satisfied: multiprocess<0.70.17 in /usr/local/lib/python3.11/dist-packages (from datasets) (0.70.15)\n",
            "Requirement already satisfied: fsspec<=2025.3.0,>=2023.1.0 in /usr/local/lib/python3.11/dist-packages (from fsspec[http]<=2025.3.0,>=2023.1.0->datasets) (2025.3.0)\n",
            "Requirement already satisfied: huggingface-hub>=0.24.0 in /usr/local/lib/python3.11/dist-packages (from datasets) (0.33.0)\n",
            "Requirement already satisfied: packaging in /usr/local/lib/python3.11/dist-packages (from datasets) (24.2)\n",
            "Requirement already satisfied: pyyaml>=5.1 in /usr/local/lib/python3.11/dist-packages (from datasets) (6.0.2)\n",
            "Requirement already satisfied: aiohttp!=4.0.0a0,!=4.0.0a1 in /usr/local/lib/python3.11/dist-packages (from fsspec[http]<=2025.3.0,>=2023.1.0->datasets) (3.11.15)\n",
            "Requirement already satisfied: typing-extensions>=3.7.4.3 in /usr/local/lib/python3.11/dist-packages (from huggingface-hub>=0.24.0->datasets) (4.14.0)\n",
            "Requirement already satisfied: hf-xet<2.0.0,>=1.1.2 in /usr/local/lib/python3.11/dist-packages (from huggingface-hub>=0.24.0->datasets) (1.1.3)\n",
            "Requirement already satisfied: charset-normalizer<4,>=2 in /usr/local/lib/python3.11/dist-packages (from requests>=2.32.2->datasets) (3.4.2)\n",
            "Requirement already satisfied: idna<4,>=2.5 in /usr/local/lib/python3.11/dist-packages (from requests>=2.32.2->datasets) (3.10)\n",
            "Requirement already satisfied: urllib3<3,>=1.21.1 in /usr/local/lib/python3.11/dist-packages (from requests>=2.32.2->datasets) (2.4.0)\n",
            "Requirement already satisfied: certifi>=2017.4.17 in /usr/local/lib/python3.11/dist-packages (from requests>=2.32.2->datasets) (2025.6.15)\n",
            "Requirement already satisfied: python-dateutil>=2.8.2 in /usr/local/lib/python3.11/dist-packages (from pandas->datasets) (2.9.0.post0)\n",
            "Requirement already satisfied: pytz>=2020.1 in /usr/local/lib/python3.11/dist-packages (from pandas->datasets) (2025.2)\n",
            "Requirement already satisfied: tzdata>=2022.7 in /usr/local/lib/python3.11/dist-packages (from pandas->datasets) (2025.2)\n",
            "Requirement already satisfied: aiohappyeyeballs>=2.3.0 in /usr/local/lib/python3.11/dist-packages (from aiohttp!=4.0.0a0,!=4.0.0a1->fsspec[http]<=2025.3.0,>=2023.1.0->datasets) (2.6.1)\n",
            "Requirement already satisfied: aiosignal>=1.1.2 in /usr/local/lib/python3.11/dist-packages (from aiohttp!=4.0.0a0,!=4.0.0a1->fsspec[http]<=2025.3.0,>=2023.1.0->datasets) (1.3.2)\n",
            "Requirement already satisfied: attrs>=17.3.0 in /usr/local/lib/python3.11/dist-packages (from aiohttp!=4.0.0a0,!=4.0.0a1->fsspec[http]<=2025.3.0,>=2023.1.0->datasets) (25.3.0)\n",
            "Requirement already satisfied: frozenlist>=1.1.1 in /usr/local/lib/python3.11/dist-packages (from aiohttp!=4.0.0a0,!=4.0.0a1->fsspec[http]<=2025.3.0,>=2023.1.0->datasets) (1.7.0)\n",
            "Requirement already satisfied: multidict<7.0,>=4.5 in /usr/local/lib/python3.11/dist-packages (from aiohttp!=4.0.0a0,!=4.0.0a1->fsspec[http]<=2025.3.0,>=2023.1.0->datasets) (6.4.4)\n",
            "Requirement already satisfied: propcache>=0.2.0 in /usr/local/lib/python3.11/dist-packages (from aiohttp!=4.0.0a0,!=4.0.0a1->fsspec[http]<=2025.3.0,>=2023.1.0->datasets) (0.3.2)\n",
            "Requirement already satisfied: yarl<2.0,>=1.17.0 in /usr/local/lib/python3.11/dist-packages (from aiohttp!=4.0.0a0,!=4.0.0a1->fsspec[http]<=2025.3.0,>=2023.1.0->datasets) (1.20.1)\n",
            "Requirement already satisfied: six>=1.5 in /usr/local/lib/python3.11/dist-packages (from python-dateutil>=2.8.2->pandas->datasets) (1.17.0)\n"
          ]
        }
      ],
      "source": [
        "!pip install -U datasets\n",
        "import pandas as pd\n",
        "from datasets import load_dataset\n",
        "\n",
        "dataset = load_dataset('lukebarousse/data_jobs')\n",
        "df = dataset['train'].to_pandas()"
      ]
    },
    {
      "cell_type": "markdown",
      "id": "31c4c666",
      "metadata": {
        "id": "31c4c666"
      },
      "source": [
        "---"
      ]
    },
    {
      "cell_type": "markdown",
      "id": "dcd73f36",
      "metadata": {
        "id": "dcd73f36"
      },
      "source": [
        "## 🟩 Access Third Row (1.24.1)"
      ]
    },
    {
      "cell_type": "code",
      "execution_count": 24,
      "id": "bada727b",
      "metadata": {
        "collapsed": true,
        "colab": {
          "base_uri": "https://localhost:8080/",
          "height": 617
        },
        "id": "bada727b",
        "outputId": "a0745c5f-f0e3-4125-9e42-a160c904873c"
      },
      "outputs": [
        {
          "output_type": "execute_result",
          "data": {
            "text/plain": [
              "job_title_short                                              Data Engineer\n",
              "job_title                LEAD ENGINEER - PRINCIPAL ANALYST - PRINCIPAL ...\n",
              "job_location                                               San Antonio, TX\n",
              "job_via                                                  via Diversity.com\n",
              "job_schedule_type                                                Full-time\n",
              "job_work_from_home                                                   False\n",
              "search_location                                       Texas, United States\n",
              "job_posted_date                                        2023-07-04 13:01:41\n",
              "job_no_degree_mention                                                 True\n",
              "job_health_insurance                                                 False\n",
              "job_country                                                  United States\n",
              "salary_rate                                                           None\n",
              "salary_year_avg                                                        NaN\n",
              "salary_hour_avg                                                        NaN\n",
              "company_name                                  Southwest Research Institute\n",
              "job_skills               ['python', 'c++', 'java', 'matlab', 'aws', 'te...\n",
              "job_type_skills          {'cloud': ['aws'], 'libraries': ['tensorflow',...\n",
              "Name: 3, dtype: object"
            ],
            "text/html": [
              "<div>\n",
              "<style scoped>\n",
              "    .dataframe tbody tr th:only-of-type {\n",
              "        vertical-align: middle;\n",
              "    }\n",
              "\n",
              "    .dataframe tbody tr th {\n",
              "        vertical-align: top;\n",
              "    }\n",
              "\n",
              "    .dataframe thead th {\n",
              "        text-align: right;\n",
              "    }\n",
              "</style>\n",
              "<table border=\"1\" class=\"dataframe\">\n",
              "  <thead>\n",
              "    <tr style=\"text-align: right;\">\n",
              "      <th></th>\n",
              "      <th>3</th>\n",
              "    </tr>\n",
              "  </thead>\n",
              "  <tbody>\n",
              "    <tr>\n",
              "      <th>job_title_short</th>\n",
              "      <td>Data Engineer</td>\n",
              "    </tr>\n",
              "    <tr>\n",
              "      <th>job_title</th>\n",
              "      <td>LEAD ENGINEER - PRINCIPAL ANALYST - PRINCIPAL ...</td>\n",
              "    </tr>\n",
              "    <tr>\n",
              "      <th>job_location</th>\n",
              "      <td>San Antonio, TX</td>\n",
              "    </tr>\n",
              "    <tr>\n",
              "      <th>job_via</th>\n",
              "      <td>via Diversity.com</td>\n",
              "    </tr>\n",
              "    <tr>\n",
              "      <th>job_schedule_type</th>\n",
              "      <td>Full-time</td>\n",
              "    </tr>\n",
              "    <tr>\n",
              "      <th>job_work_from_home</th>\n",
              "      <td>False</td>\n",
              "    </tr>\n",
              "    <tr>\n",
              "      <th>search_location</th>\n",
              "      <td>Texas, United States</td>\n",
              "    </tr>\n",
              "    <tr>\n",
              "      <th>job_posted_date</th>\n",
              "      <td>2023-07-04 13:01:41</td>\n",
              "    </tr>\n",
              "    <tr>\n",
              "      <th>job_no_degree_mention</th>\n",
              "      <td>True</td>\n",
              "    </tr>\n",
              "    <tr>\n",
              "      <th>job_health_insurance</th>\n",
              "      <td>False</td>\n",
              "    </tr>\n",
              "    <tr>\n",
              "      <th>job_country</th>\n",
              "      <td>United States</td>\n",
              "    </tr>\n",
              "    <tr>\n",
              "      <th>salary_rate</th>\n",
              "      <td>None</td>\n",
              "    </tr>\n",
              "    <tr>\n",
              "      <th>salary_year_avg</th>\n",
              "      <td>NaN</td>\n",
              "    </tr>\n",
              "    <tr>\n",
              "      <th>salary_hour_avg</th>\n",
              "      <td>NaN</td>\n",
              "    </tr>\n",
              "    <tr>\n",
              "      <th>company_name</th>\n",
              "      <td>Southwest Research Institute</td>\n",
              "    </tr>\n",
              "    <tr>\n",
              "      <th>job_skills</th>\n",
              "      <td>['python', 'c++', 'java', 'matlab', 'aws', 'te...</td>\n",
              "    </tr>\n",
              "    <tr>\n",
              "      <th>job_type_skills</th>\n",
              "      <td>{'cloud': ['aws'], 'libraries': ['tensorflow',...</td>\n",
              "    </tr>\n",
              "  </tbody>\n",
              "</table>\n",
              "</div><br><label><b>dtype:</b> object</label>"
            ]
          },
          "metadata": {},
          "execution_count": 24
        }
      ],
      "source": [
        "df.iloc[3]"
      ]
    },
    {
      "cell_type": "markdown",
      "id": "2625930f",
      "metadata": {
        "id": "2625930f"
      },
      "source": [
        "---"
      ]
    },
    {
      "cell_type": "markdown",
      "id": "29cec3e2",
      "metadata": {
        "id": "29cec3e2"
      },
      "source": [
        "## 🟨 Unique Job Countries (1.24.2)"
      ]
    },
    {
      "cell_type": "code",
      "execution_count": 25,
      "id": "b6bfe29b",
      "metadata": {
        "colab": {
          "base_uri": "https://localhost:8080/"
        },
        "id": "b6bfe29b",
        "outputId": "7259093a-6b42-4178-9b3c-f398febc2a6a"
      },
      "outputs": [
        {
          "output_type": "execute_result",
          "data": {
            "text/plain": [
              "array(['United States', 'Mexico', 'Germany', 'Sudan', 'Romania',\n",
              "       'Denmark', 'Switzerland', 'France', 'Brazil', 'United Kingdom',\n",
              "       'India', 'Poland', 'Belgium', 'Russia', 'Serbia', 'Singapore',\n",
              "       'Costa Rica', 'Ireland', 'Italy', 'Malaysia', 'Canada', 'Uruguay',\n",
              "       'Namibia', 'Estonia', 'Israel', 'Hungary', 'Austria',\n",
              "       'Philippines', 'Egypt', 'Australia', 'Chile', 'Spain',\n",
              "       'Netherlands', 'South Africa', 'Colombia', 'Hong Kong', 'Kuwait',\n",
              "       'Finland', 'Luxembourg', 'China', 'Puerto Rico', 'Sweden',\n",
              "       'Saudi Arabia', 'Argentina', 'Turkey', 'Panama', 'Nigeria',\n",
              "       'New Zealand', 'Ukraine', 'Jordan', 'United Arab Emirates',\n",
              "       'Armenia', 'Pakistan', 'Lesotho', 'Mauritius', 'Portugal',\n",
              "       'Bahrain', 'Taiwan', \"Côte d'Ivoire\", 'U.S. Virgin Islands',\n",
              "       'Réunion', 'Kazakhstan', 'Lithuania', 'Moldova', 'Belarus',\n",
              "       'Cyprus', 'Bulgaria', 'Honduras', 'Czechia', 'Peru', 'South Korea',\n",
              "       'Malta', 'Indonesia', 'Tunisia', 'Latvia', 'Slovakia', 'Lebanon',\n",
              "       'Japan', 'Sri Lanka', 'Slovenia', 'Bangladesh', 'Greece',\n",
              "       'Ecuador', 'Oman', 'Kenya', 'Guyana', 'Vietnam', 'Norway',\n",
              "       'Senegal', 'El Salvador', 'Iceland', 'Thailand', 'Ghana',\n",
              "       'Croatia', 'Myanmar', 'Nepal', 'Morocco', 'Guadeloupe', 'Iraq',\n",
              "       'Palestine', 'Guinea', 'Albania', 'Guatemala', 'Qatar', 'Uganda',\n",
              "       'Bolivia', None, 'Dominican Republic', 'Ethiopia', 'Haiti',\n",
              "       'Uzbekistan', 'Bahamas', 'Liberia', 'Montenegro', 'Cayman Islands',\n",
              "       'Mongolia', 'Macedonia (FYROM)', 'Azerbaijan', 'Burkina Faso',\n",
              "       'Guam', 'Trinidad and Tobago', 'Benin', 'Kyrgyzstan',\n",
              "       'Bosnia and Herzegovina', 'Zambia', 'Cameroon', 'Venezuela',\n",
              "       'Barbados', 'Togo', 'Rwanda', 'Cambodia', 'Algeria', 'Afghanistan',\n",
              "       'Congo, Democratic Republic of the', 'Zimbabwe', 'Jamaica',\n",
              "       'Suriname', 'Mozambique', 'Yemen', 'Tanzania', 'Madagascar',\n",
              "       'Mali', 'Paraguay', 'Brunei', 'Malawi', 'Nicaragua', 'Libya',\n",
              "       'Tajikistan', 'Mauritania', 'Botswana', 'Fiji',\n",
              "       'Northern Mariana Islands', 'Angola', 'Somalia',\n",
              "       'Papua New Guinea', 'Gambia', 'Djibouti', 'Laos', 'Curaçao',\n",
              "       'Maldives', 'Bhutan'], dtype=object)"
            ]
          },
          "metadata": {},
          "execution_count": 25
        }
      ],
      "source": [
        "df['job_country'].unique()"
      ]
    },
    {
      "cell_type": "markdown",
      "id": "20de2ec6",
      "metadata": {
        "id": "20de2ec6"
      },
      "source": [
        "---"
      ]
    },
    {
      "cell_type": "markdown",
      "id": "98da3ceb",
      "metadata": {
        "id": "98da3ceb"
      },
      "source": [
        "## 🟨 Filter by Job Schedule Type and Display (1.24.3)"
      ]
    },
    {
      "cell_type": "code",
      "execution_count": 26,
      "id": "10295ba0",
      "metadata": {
        "colab": {
          "base_uri": "https://localhost:8080/",
          "height": 1000
        },
        "id": "10295ba0",
        "outputId": "a3255b5e-d758-44c0-b625-b7758570ab46"
      },
      "outputs": [
        {
          "output_type": "execute_result",
          "data": {
            "text/plain": [
              "job_schedule_type\n",
              "Full-time                                701727\n",
              "Contractor                                34793\n",
              "Internship                                 8742\n",
              "Part-time                                  7881\n",
              "Full-time and Part-time                    6287\n",
              "Full-time and Temp work                    2603\n",
              "Full-time and Internship                   2340\n",
              "Full-time and Contractor                   2292\n",
              "Contractor and Temp work                   2283\n",
              "Temp work                                  2169\n",
              "Full-time, Part-time, and Internship        264\n",
              "Part-time and Internship                    255\n",
              "Temp work and Internship                    211\n",
              "Full-time, Contractor, and Temp work        194\n",
              "Full-time, Temp work, and Internship        173\n",
              "Part-time and Contractor                    160\n",
              "Full-time, Part-time, and Temp work         131\n",
              "Full-time, Part-time, and Contractor        119\n",
              "Part-time and Temp work                     111\n",
              "Pekerjaan tetap                              59\n",
              "Volunteer                                    51\n",
              "Full-time and Per diem                       42\n",
              "Contractor and Internship                    41\n",
              "Full-time, Contractor, and Internship        29\n",
              "Per diem                                     20\n",
              "Part-time, Contractor, and Temp work         19\n",
              "Part-time and Full-time                      19\n",
              "Part-time, Temp work, and Internship         12\n",
              "Full-time and Volunteer                       8\n",
              "Part-time and Per diem                        5\n",
              "Contractor and Per diem                       4\n",
              "Contractor and Part-time                      3\n",
              "Full-time, Temp work, and Per diem            3\n",
              "Contractor, Temp work, and Internship         3\n",
              "Internship and Full-time                      3\n",
              "Kontraktor                                    3\n",
              "Contractor and Full-time                      2\n",
              "Part-time and Volunteer                       2\n",
              "Full-time, Part-time, and Volunteer           2\n",
              "Full-time, Contractor, and Volunteer          2\n",
              "Part-time, Internship, and Volunteer          1\n",
              "Internship and Per diem                       1\n",
              "Temp work and Full-time                       1\n",
              "Full-time, Part-time, and Per diem            1\n",
              "Internship and Volunteer                      1\n",
              "Part-time, Contractor, and Internship         1\n",
              "Temp work, Full-time, and Part-time           1\n",
              "Name: count, dtype: int64"
            ],
            "text/html": [
              "<div>\n",
              "<style scoped>\n",
              "    .dataframe tbody tr th:only-of-type {\n",
              "        vertical-align: middle;\n",
              "    }\n",
              "\n",
              "    .dataframe tbody tr th {\n",
              "        vertical-align: top;\n",
              "    }\n",
              "\n",
              "    .dataframe thead th {\n",
              "        text-align: right;\n",
              "    }\n",
              "</style>\n",
              "<table border=\"1\" class=\"dataframe\">\n",
              "  <thead>\n",
              "    <tr style=\"text-align: right;\">\n",
              "      <th></th>\n",
              "      <th>count</th>\n",
              "    </tr>\n",
              "    <tr>\n",
              "      <th>job_schedule_type</th>\n",
              "      <th></th>\n",
              "    </tr>\n",
              "  </thead>\n",
              "  <tbody>\n",
              "    <tr>\n",
              "      <th>Full-time</th>\n",
              "      <td>701727</td>\n",
              "    </tr>\n",
              "    <tr>\n",
              "      <th>Contractor</th>\n",
              "      <td>34793</td>\n",
              "    </tr>\n",
              "    <tr>\n",
              "      <th>Internship</th>\n",
              "      <td>8742</td>\n",
              "    </tr>\n",
              "    <tr>\n",
              "      <th>Part-time</th>\n",
              "      <td>7881</td>\n",
              "    </tr>\n",
              "    <tr>\n",
              "      <th>Full-time and Part-time</th>\n",
              "      <td>6287</td>\n",
              "    </tr>\n",
              "    <tr>\n",
              "      <th>Full-time and Temp work</th>\n",
              "      <td>2603</td>\n",
              "    </tr>\n",
              "    <tr>\n",
              "      <th>Full-time and Internship</th>\n",
              "      <td>2340</td>\n",
              "    </tr>\n",
              "    <tr>\n",
              "      <th>Full-time and Contractor</th>\n",
              "      <td>2292</td>\n",
              "    </tr>\n",
              "    <tr>\n",
              "      <th>Contractor and Temp work</th>\n",
              "      <td>2283</td>\n",
              "    </tr>\n",
              "    <tr>\n",
              "      <th>Temp work</th>\n",
              "      <td>2169</td>\n",
              "    </tr>\n",
              "    <tr>\n",
              "      <th>Full-time, Part-time, and Internship</th>\n",
              "      <td>264</td>\n",
              "    </tr>\n",
              "    <tr>\n",
              "      <th>Part-time and Internship</th>\n",
              "      <td>255</td>\n",
              "    </tr>\n",
              "    <tr>\n",
              "      <th>Temp work and Internship</th>\n",
              "      <td>211</td>\n",
              "    </tr>\n",
              "    <tr>\n",
              "      <th>Full-time, Contractor, and Temp work</th>\n",
              "      <td>194</td>\n",
              "    </tr>\n",
              "    <tr>\n",
              "      <th>Full-time, Temp work, and Internship</th>\n",
              "      <td>173</td>\n",
              "    </tr>\n",
              "    <tr>\n",
              "      <th>Part-time and Contractor</th>\n",
              "      <td>160</td>\n",
              "    </tr>\n",
              "    <tr>\n",
              "      <th>Full-time, Part-time, and Temp work</th>\n",
              "      <td>131</td>\n",
              "    </tr>\n",
              "    <tr>\n",
              "      <th>Full-time, Part-time, and Contractor</th>\n",
              "      <td>119</td>\n",
              "    </tr>\n",
              "    <tr>\n",
              "      <th>Part-time and Temp work</th>\n",
              "      <td>111</td>\n",
              "    </tr>\n",
              "    <tr>\n",
              "      <th>Pekerjaan tetap</th>\n",
              "      <td>59</td>\n",
              "    </tr>\n",
              "    <tr>\n",
              "      <th>Volunteer</th>\n",
              "      <td>51</td>\n",
              "    </tr>\n",
              "    <tr>\n",
              "      <th>Full-time and Per diem</th>\n",
              "      <td>42</td>\n",
              "    </tr>\n",
              "    <tr>\n",
              "      <th>Contractor and Internship</th>\n",
              "      <td>41</td>\n",
              "    </tr>\n",
              "    <tr>\n",
              "      <th>Full-time, Contractor, and Internship</th>\n",
              "      <td>29</td>\n",
              "    </tr>\n",
              "    <tr>\n",
              "      <th>Per diem</th>\n",
              "      <td>20</td>\n",
              "    </tr>\n",
              "    <tr>\n",
              "      <th>Part-time, Contractor, and Temp work</th>\n",
              "      <td>19</td>\n",
              "    </tr>\n",
              "    <tr>\n",
              "      <th>Part-time and Full-time</th>\n",
              "      <td>19</td>\n",
              "    </tr>\n",
              "    <tr>\n",
              "      <th>Part-time, Temp work, and Internship</th>\n",
              "      <td>12</td>\n",
              "    </tr>\n",
              "    <tr>\n",
              "      <th>Full-time and Volunteer</th>\n",
              "      <td>8</td>\n",
              "    </tr>\n",
              "    <tr>\n",
              "      <th>Part-time and Per diem</th>\n",
              "      <td>5</td>\n",
              "    </tr>\n",
              "    <tr>\n",
              "      <th>Contractor and Per diem</th>\n",
              "      <td>4</td>\n",
              "    </tr>\n",
              "    <tr>\n",
              "      <th>Contractor and Part-time</th>\n",
              "      <td>3</td>\n",
              "    </tr>\n",
              "    <tr>\n",
              "      <th>Full-time, Temp work, and Per diem</th>\n",
              "      <td>3</td>\n",
              "    </tr>\n",
              "    <tr>\n",
              "      <th>Contractor, Temp work, and Internship</th>\n",
              "      <td>3</td>\n",
              "    </tr>\n",
              "    <tr>\n",
              "      <th>Internship and Full-time</th>\n",
              "      <td>3</td>\n",
              "    </tr>\n",
              "    <tr>\n",
              "      <th>Kontraktor</th>\n",
              "      <td>3</td>\n",
              "    </tr>\n",
              "    <tr>\n",
              "      <th>Contractor and Full-time</th>\n",
              "      <td>2</td>\n",
              "    </tr>\n",
              "    <tr>\n",
              "      <th>Part-time and Volunteer</th>\n",
              "      <td>2</td>\n",
              "    </tr>\n",
              "    <tr>\n",
              "      <th>Full-time, Part-time, and Volunteer</th>\n",
              "      <td>2</td>\n",
              "    </tr>\n",
              "    <tr>\n",
              "      <th>Full-time, Contractor, and Volunteer</th>\n",
              "      <td>2</td>\n",
              "    </tr>\n",
              "    <tr>\n",
              "      <th>Part-time, Internship, and Volunteer</th>\n",
              "      <td>1</td>\n",
              "    </tr>\n",
              "    <tr>\n",
              "      <th>Internship and Per diem</th>\n",
              "      <td>1</td>\n",
              "    </tr>\n",
              "    <tr>\n",
              "      <th>Temp work and Full-time</th>\n",
              "      <td>1</td>\n",
              "    </tr>\n",
              "    <tr>\n",
              "      <th>Full-time, Part-time, and Per diem</th>\n",
              "      <td>1</td>\n",
              "    </tr>\n",
              "    <tr>\n",
              "      <th>Internship and Volunteer</th>\n",
              "      <td>1</td>\n",
              "    </tr>\n",
              "    <tr>\n",
              "      <th>Part-time, Contractor, and Internship</th>\n",
              "      <td>1</td>\n",
              "    </tr>\n",
              "    <tr>\n",
              "      <th>Temp work, Full-time, and Part-time</th>\n",
              "      <td>1</td>\n",
              "    </tr>\n",
              "  </tbody>\n",
              "</table>\n",
              "</div><br><label><b>dtype:</b> int64</label>"
            ]
          },
          "metadata": {},
          "execution_count": 26
        }
      ],
      "source": [
        "df['job_schedule_type'].value_counts()"
      ]
    },
    {
      "cell_type": "markdown",
      "id": "6a096207",
      "metadata": {
        "id": "6a096207"
      },
      "source": [
        "---"
      ]
    },
    {
      "cell_type": "markdown",
      "id": "310c4c3b",
      "metadata": {
        "id": "310c4c3b"
      },
      "source": [
        "## 🟥 Check Missing Values (1.24.4)"
      ]
    },
    {
      "cell_type": "code",
      "execution_count": 27,
      "id": "e8184154",
      "metadata": {
        "colab": {
          "base_uri": "https://localhost:8080/",
          "height": 178
        },
        "id": "e8184154",
        "outputId": "49499ae4-20e5-4360-d61b-01aba6ebbfd1"
      },
      "outputs": [
        {
          "output_type": "execute_result",
          "data": {
            "text/plain": [
              "salary_year_avg\n",
              "False    763738\n",
              "True      22003\n",
              "Name: count, dtype: int64"
            ],
            "text/html": [
              "<div>\n",
              "<style scoped>\n",
              "    .dataframe tbody tr th:only-of-type {\n",
              "        vertical-align: middle;\n",
              "    }\n",
              "\n",
              "    .dataframe tbody tr th {\n",
              "        vertical-align: top;\n",
              "    }\n",
              "\n",
              "    .dataframe thead th {\n",
              "        text-align: right;\n",
              "    }\n",
              "</style>\n",
              "<table border=\"1\" class=\"dataframe\">\n",
              "  <thead>\n",
              "    <tr style=\"text-align: right;\">\n",
              "      <th></th>\n",
              "      <th>count</th>\n",
              "    </tr>\n",
              "    <tr>\n",
              "      <th>salary_year_avg</th>\n",
              "      <th></th>\n",
              "    </tr>\n",
              "  </thead>\n",
              "  <tbody>\n",
              "    <tr>\n",
              "      <th>False</th>\n",
              "      <td>763738</td>\n",
              "    </tr>\n",
              "    <tr>\n",
              "      <th>True</th>\n",
              "      <td>22003</td>\n",
              "    </tr>\n",
              "  </tbody>\n",
              "</table>\n",
              "</div><br><label><b>dtype:</b> int64</label>"
            ]
          },
          "metadata": {},
          "execution_count": 27
        }
      ],
      "source": [
        "df['salary_year_avg'].notna().value_counts()\n",
        "#There are 22003 null values and 763738 null values in this column"
      ]
    },
    {
      "cell_type": "markdown",
      "id": "87d9297c",
      "metadata": {
        "id": "87d9297c"
      },
      "source": [
        "---"
      ]
    }
  ],
  "metadata": {
    "kernelspec": {
      "display_name": "python_course",
      "language": "python",
      "name": "python3"
    },
    "language_info": {
      "codemirror_mode": {
        "name": "ipython",
        "version": 3
      },
      "file_extension": ".py",
      "mimetype": "text/x-python",
      "name": "python",
      "nbconvert_exporter": "python",
      "pygments_lexer": "ipython3",
      "version": "3.11.9"
    },
    "colab": {
      "provenance": []
    }
  },
  "nbformat": 4,
  "nbformat_minor": 5
}