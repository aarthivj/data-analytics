{
 "cells": [
  {
   "cell_type": "markdown",
   "id": "afd62831",
   "metadata": {
    "id": "afd62831"
   },
   "source": [
    "<a target=\"_blank\" href=\"https://colab.research.google.com/github/lukebarousse/Python_Data_Analytics_Course/blob/main/4_Problems/1_24_Pandas Inspection.ipynb\">\n",
    "  <img src=\"https://colab.research.google.com/assets/colab-badge.svg\" alt=\"Open In Colab\"/>\n",
    "</a>"
   ]
  },
  {
   "cell_type": "code",
   "execution_count": 1,
   "id": "169fd3c4",
   "metadata": {
    "colab": {
     "base_uri": "https://localhost:8080/",
     "height": 1000,
     "referenced_widgets": [
      "39d3ebc112554ab7a1815b43ca570171",
      "6d682fd1914b430fbaa0c8ddd809738a",
      "a150502ec28546e7b766937e7c2a3f78",
      "a86ea3bb78da4b429862f0ff94cf8e1a",
      "5ed0d1b5fd2c4835a9857e4becba6abe",
      "9a5c547403b040859f08d2a43ffa554c",
      "c92084a8af704dd68d0f48f6e4d563ab",
      "f413e00517ca4639ab3dd0280bf8e735",
      "465a4c840e594f2b9308b8158257fbd0",
      "97b22c64c5a749a9b5072d4d5e331ded",
      "3a4b9be59d624751a6bd6d0216439717",
      "376b441d1c50422088ede26711dc60f0",
      "c890790f48fb48e5b1e80574285971c2",
      "60ca7e47d44c4c2296458b86cc85c204",
      "7d0ea045154943ab86438eae86a01966",
      "9c0608d89fe247489dbdfcf84a594967",
      "174ede1ce3c143f688275952257986c8",
      "899bb362a2b84dda9fdbd3efcb863bd9",
      "7529a5cd56364225a36b28972ef35da8",
      "59e80ee5a06f4a318a9abd1ca010686f",
      "07641acb36094a51b5d4dbe55bf81472",
      "a3319c8b2ac94fdbb129775c0fab5060",
      "5460ba88ee55490eacfffba28188d097",
      "d881ba89985d4d03a259001965e18e83",
      "bb7c5dab05dc408699561f6c61c51cd9",
      "187f8a03cd8c4329b7128381479cae74",
      "e3589694ddf8464c9c6bc360c931bdb7",
      "a534bb1529dd48cdb14ba5b253b6d274",
      "71850ed281b94f43b523967fd7dd52d9",
      "f910711c17f749cda2c9db129b71b3e9",
      "d572b33875914a88bae5c7e2db32f0e5",
      "6b4f17b0f0e74228bb58a0367e17d8fa",
      "4f54ad4c4c3a45b299d3bd54ac6c1c03"
     ]
    },
    "collapsed": true,
    "id": "169fd3c4",
    "outputId": "5e827e89-7f93-4694-a703-704b09c58866"
   },
   "outputs": [
    {
     "name": "stdout",
     "output_type": "stream",
     "text": [
      "Requirement already satisfied: datasets in /usr/local/lib/python3.11/dist-packages (2.14.4)\n",
      "Collecting datasets\n",
      "  Downloading datasets-3.6.0-py3-none-any.whl.metadata (19 kB)\n",
      "Requirement already satisfied: filelock in /usr/local/lib/python3.11/dist-packages (from datasets) (3.18.0)\n",
      "Requirement already satisfied: numpy>=1.17 in /usr/local/lib/python3.11/dist-packages (from datasets) (2.0.2)\n",
      "Requirement already satisfied: pyarrow>=15.0.0 in /usr/local/lib/python3.11/dist-packages (from datasets) (18.1.0)\n",
      "Requirement already satisfied: dill<0.3.9,>=0.3.0 in /usr/local/lib/python3.11/dist-packages (from datasets) (0.3.7)\n",
      "Requirement already satisfied: pandas in /usr/local/lib/python3.11/dist-packages (from datasets) (2.2.2)\n",
      "Requirement already satisfied: requests>=2.32.2 in /usr/local/lib/python3.11/dist-packages (from datasets) (2.32.3)\n",
      "Requirement already satisfied: tqdm>=4.66.3 in /usr/local/lib/python3.11/dist-packages (from datasets) (4.67.1)\n",
      "Requirement already satisfied: xxhash in /usr/local/lib/python3.11/dist-packages (from datasets) (3.5.0)\n",
      "Requirement already satisfied: multiprocess<0.70.17 in /usr/local/lib/python3.11/dist-packages (from datasets) (0.70.15)\n",
      "Collecting fsspec<=2025.3.0,>=2023.1.0 (from fsspec[http]<=2025.3.0,>=2023.1.0->datasets)\n",
      "  Downloading fsspec-2025.3.0-py3-none-any.whl.metadata (11 kB)\n",
      "Requirement already satisfied: huggingface-hub>=0.24.0 in /usr/local/lib/python3.11/dist-packages (from datasets) (0.33.0)\n",
      "Requirement already satisfied: packaging in /usr/local/lib/python3.11/dist-packages (from datasets) (24.2)\n",
      "Requirement already satisfied: pyyaml>=5.1 in /usr/local/lib/python3.11/dist-packages (from datasets) (6.0.2)\n",
      "Requirement already satisfied: aiohttp!=4.0.0a0,!=4.0.0a1 in /usr/local/lib/python3.11/dist-packages (from fsspec[http]<=2025.3.0,>=2023.1.0->datasets) (3.11.15)\n",
      "Requirement already satisfied: typing-extensions>=3.7.4.3 in /usr/local/lib/python3.11/dist-packages (from huggingface-hub>=0.24.0->datasets) (4.14.0)\n",
      "Requirement already satisfied: hf-xet<2.0.0,>=1.1.2 in /usr/local/lib/python3.11/dist-packages (from huggingface-hub>=0.24.0->datasets) (1.1.3)\n",
      "Requirement already satisfied: charset-normalizer<4,>=2 in /usr/local/lib/python3.11/dist-packages (from requests>=2.32.2->datasets) (3.4.2)\n",
      "Requirement already satisfied: idna<4,>=2.5 in /usr/local/lib/python3.11/dist-packages (from requests>=2.32.2->datasets) (3.10)\n",
      "Requirement already satisfied: urllib3<3,>=1.21.1 in /usr/local/lib/python3.11/dist-packages (from requests>=2.32.2->datasets) (2.4.0)\n",
      "Requirement already satisfied: certifi>=2017.4.17 in /usr/local/lib/python3.11/dist-packages (from requests>=2.32.2->datasets) (2025.6.15)\n",
      "Requirement already satisfied: python-dateutil>=2.8.2 in /usr/local/lib/python3.11/dist-packages (from pandas->datasets) (2.9.0.post0)\n",
      "Requirement already satisfied: pytz>=2020.1 in /usr/local/lib/python3.11/dist-packages (from pandas->datasets) (2025.2)\n",
      "Requirement already satisfied: tzdata>=2022.7 in /usr/local/lib/python3.11/dist-packages (from pandas->datasets) (2025.2)\n",
      "Requirement already satisfied: aiohappyeyeballs>=2.3.0 in /usr/local/lib/python3.11/dist-packages (from aiohttp!=4.0.0a0,!=4.0.0a1->fsspec[http]<=2025.3.0,>=2023.1.0->datasets) (2.6.1)\n",
      "Requirement already satisfied: aiosignal>=1.1.2 in /usr/local/lib/python3.11/dist-packages (from aiohttp!=4.0.0a0,!=4.0.0a1->fsspec[http]<=2025.3.0,>=2023.1.0->datasets) (1.3.2)\n",
      "Requirement already satisfied: attrs>=17.3.0 in /usr/local/lib/python3.11/dist-packages (from aiohttp!=4.0.0a0,!=4.0.0a1->fsspec[http]<=2025.3.0,>=2023.1.0->datasets) (25.3.0)\n",
      "Requirement already satisfied: frozenlist>=1.1.1 in /usr/local/lib/python3.11/dist-packages (from aiohttp!=4.0.0a0,!=4.0.0a1->fsspec[http]<=2025.3.0,>=2023.1.0->datasets) (1.7.0)\n",
      "Requirement already satisfied: multidict<7.0,>=4.5 in /usr/local/lib/python3.11/dist-packages (from aiohttp!=4.0.0a0,!=4.0.0a1->fsspec[http]<=2025.3.0,>=2023.1.0->datasets) (6.4.4)\n",
      "Requirement already satisfied: propcache>=0.2.0 in /usr/local/lib/python3.11/dist-packages (from aiohttp!=4.0.0a0,!=4.0.0a1->fsspec[http]<=2025.3.0,>=2023.1.0->datasets) (0.3.2)\n",
      "Requirement already satisfied: yarl<2.0,>=1.17.0 in /usr/local/lib/python3.11/dist-packages (from aiohttp!=4.0.0a0,!=4.0.0a1->fsspec[http]<=2025.3.0,>=2023.1.0->datasets) (1.20.1)\n",
      "Requirement already satisfied: six>=1.5 in /usr/local/lib/python3.11/dist-packages (from python-dateutil>=2.8.2->pandas->datasets) (1.17.0)\n",
      "Downloading datasets-3.6.0-py3-none-any.whl (491 kB)\n",
      "\u001b[2K   \u001b[90m━━━━━━━━━━━━━━━━━━━━━━━━━━━━━━━━━━━━━━━━\u001b[0m \u001b[32m491.5/491.5 kB\u001b[0m \u001b[31m6.8 MB/s\u001b[0m eta \u001b[36m0:00:00\u001b[0m\n",
      "\u001b[?25hDownloading fsspec-2025.3.0-py3-none-any.whl (193 kB)\n",
      "\u001b[2K   \u001b[90m━━━━━━━━━━━━━━━━━━━━━━━━━━━━━━━━━━━━━━━━\u001b[0m \u001b[32m193.6/193.6 kB\u001b[0m \u001b[31m7.3 MB/s\u001b[0m eta \u001b[36m0:00:00\u001b[0m\n",
      "\u001b[?25hInstalling collected packages: fsspec, datasets\n",
      "  Attempting uninstall: fsspec\n",
      "    Found existing installation: fsspec 2025.3.2\n",
      "    Uninstalling fsspec-2025.3.2:\n",
      "      Successfully uninstalled fsspec-2025.3.2\n",
      "  Attempting uninstall: datasets\n",
      "    Found existing installation: datasets 2.14.4\n",
      "    Uninstalling datasets-2.14.4:\n",
      "      Successfully uninstalled datasets-2.14.4\n",
      "\u001b[31mERROR: pip's dependency resolver does not currently take into account all the packages that are installed. This behaviour is the source of the following dependency conflicts.\n",
      "gcsfs 2025.3.2 requires fsspec==2025.3.2, but you have fsspec 2025.3.0 which is incompatible.\n",
      "torch 2.6.0+cu124 requires nvidia-cublas-cu12==12.4.5.8; platform_system == \"Linux\" and platform_machine == \"x86_64\", but you have nvidia-cublas-cu12 12.5.3.2 which is incompatible.\n",
      "torch 2.6.0+cu124 requires nvidia-cuda-cupti-cu12==12.4.127; platform_system == \"Linux\" and platform_machine == \"x86_64\", but you have nvidia-cuda-cupti-cu12 12.5.82 which is incompatible.\n",
      "torch 2.6.0+cu124 requires nvidia-cuda-nvrtc-cu12==12.4.127; platform_system == \"Linux\" and platform_machine == \"x86_64\", but you have nvidia-cuda-nvrtc-cu12 12.5.82 which is incompatible.\n",
      "torch 2.6.0+cu124 requires nvidia-cuda-runtime-cu12==12.4.127; platform_system == \"Linux\" and platform_machine == \"x86_64\", but you have nvidia-cuda-runtime-cu12 12.5.82 which is incompatible.\n",
      "torch 2.6.0+cu124 requires nvidia-cudnn-cu12==9.1.0.70; platform_system == \"Linux\" and platform_machine == \"x86_64\", but you have nvidia-cudnn-cu12 9.3.0.75 which is incompatible.\n",
      "torch 2.6.0+cu124 requires nvidia-cufft-cu12==11.2.1.3; platform_system == \"Linux\" and platform_machine == \"x86_64\", but you have nvidia-cufft-cu12 11.2.3.61 which is incompatible.\n",
      "torch 2.6.0+cu124 requires nvidia-curand-cu12==10.3.5.147; platform_system == \"Linux\" and platform_machine == \"x86_64\", but you have nvidia-curand-cu12 10.3.6.82 which is incompatible.\n",
      "torch 2.6.0+cu124 requires nvidia-cusolver-cu12==11.6.1.9; platform_system == \"Linux\" and platform_machine == \"x86_64\", but you have nvidia-cusolver-cu12 11.6.3.83 which is incompatible.\n",
      "torch 2.6.0+cu124 requires nvidia-cusparse-cu12==12.3.1.170; platform_system == \"Linux\" and platform_machine == \"x86_64\", but you have nvidia-cusparse-cu12 12.5.1.3 which is incompatible.\n",
      "torch 2.6.0+cu124 requires nvidia-nvjitlink-cu12==12.4.127; platform_system == \"Linux\" and platform_machine == \"x86_64\", but you have nvidia-nvjitlink-cu12 12.5.82 which is incompatible.\u001b[0m\u001b[31m\n",
      "\u001b[0mSuccessfully installed datasets-3.6.0 fsspec-2025.3.0\n"
     ]
    },
    {
     "name": "stderr",
     "output_type": "stream",
     "text": [
      "/usr/local/lib/python3.11/dist-packages/huggingface_hub/utils/_auth.py:94: UserWarning: \n",
      "The secret `HF_TOKEN` does not exist in your Colab secrets.\n",
      "To authenticate with the Hugging Face Hub, create a token in your settings tab (https://huggingface.co/settings/tokens), set it as secret in your Google Colab and restart your session.\n",
      "You will be able to reuse this secret in all of your notebooks.\n",
      "Please note that authentication is recommended but still optional to access public models or datasets.\n",
      "  warnings.warn(\n"
     ]
    },
    {
     "data": {
      "application/vnd.jupyter.widget-view+json": {
       "model_id": "39d3ebc112554ab7a1815b43ca570171",
       "version_major": 2,
       "version_minor": 0
      },
      "text/plain": [
       "README.md:   0%|          | 0.00/3.25k [00:00<?, ?B/s]"
      ]
     },
     "metadata": {},
     "output_type": "display_data"
    },
    {
     "data": {
      "application/vnd.jupyter.widget-view+json": {
       "model_id": "376b441d1c50422088ede26711dc60f0",
       "version_major": 2,
       "version_minor": 0
      },
      "text/plain": [
       "data_jobs.csv:   0%|          | 0.00/231M [00:00<?, ?B/s]"
      ]
     },
     "metadata": {},
     "output_type": "display_data"
    },
    {
     "data": {
      "application/vnd.jupyter.widget-view+json": {
       "model_id": "5460ba88ee55490eacfffba28188d097",
       "version_major": 2,
       "version_minor": 0
      },
      "text/plain": [
       "Generating train split:   0%|          | 0/785741 [00:00<?, ? examples/s]"
      ]
     },
     "metadata": {},
     "output_type": "display_data"
    }
   ],
   "source": [
    "!pip install -U datasets\n",
    "import pandas as pd\n",
    "from datasets import load_dataset\n",
    "\n",
    "dataset = load_dataset('lukebarousse/data_jobs')\n",
    "df = dataset['train'].to_pandas()"
   ]
  },
  {
   "cell_type": "markdown",
   "id": "31c4c666",
   "metadata": {
    "id": "31c4c666"
   },
   "source": [
    "---"
   ]
  },
  {
   "cell_type": "markdown",
   "id": "dcd73f36",
   "metadata": {
    "id": "dcd73f36"
   },
   "source": [
    "## 🟩 Access Third Row (1.24.1)"
   ]
  },
  {
   "cell_type": "code",
   "execution_count": 7,
   "id": "bada727b",
   "metadata": {
    "colab": {
     "base_uri": "https://localhost:8080/",
     "height": 617
    },
    "collapsed": true,
    "id": "bada727b",
    "outputId": "b2a8f486-e53e-48f2-e216-3aca5beeec3b"
   },
   "outputs": [
    {
     "data": {
      "text/html": [
       "<div>\n",
       "<style scoped>\n",
       "    .dataframe tbody tr th:only-of-type {\n",
       "        vertical-align: middle;\n",
       "    }\n",
       "\n",
       "    .dataframe tbody tr th {\n",
       "        vertical-align: top;\n",
       "    }\n",
       "\n",
       "    .dataframe thead th {\n",
       "        text-align: right;\n",
       "    }\n",
       "</style>\n",
       "<table border=\"1\" class=\"dataframe\">\n",
       "  <thead>\n",
       "    <tr style=\"text-align: right;\">\n",
       "      <th></th>\n",
       "      <th>3</th>\n",
       "    </tr>\n",
       "  </thead>\n",
       "  <tbody>\n",
       "    <tr>\n",
       "      <th>job_title_short</th>\n",
       "      <td>Data Engineer</td>\n",
       "    </tr>\n",
       "    <tr>\n",
       "      <th>job_title</th>\n",
       "      <td>LEAD ENGINEER - PRINCIPAL ANALYST - PRINCIPAL ...</td>\n",
       "    </tr>\n",
       "    <tr>\n",
       "      <th>job_location</th>\n",
       "      <td>San Antonio, TX</td>\n",
       "    </tr>\n",
       "    <tr>\n",
       "      <th>job_via</th>\n",
       "      <td>via Diversity.com</td>\n",
       "    </tr>\n",
       "    <tr>\n",
       "      <th>job_schedule_type</th>\n",
       "      <td>Full-time</td>\n",
       "    </tr>\n",
       "    <tr>\n",
       "      <th>job_work_from_home</th>\n",
       "      <td>False</td>\n",
       "    </tr>\n",
       "    <tr>\n",
       "      <th>search_location</th>\n",
       "      <td>Texas, United States</td>\n",
       "    </tr>\n",
       "    <tr>\n",
       "      <th>job_posted_date</th>\n",
       "      <td>2023-07-04 13:01:41</td>\n",
       "    </tr>\n",
       "    <tr>\n",
       "      <th>job_no_degree_mention</th>\n",
       "      <td>True</td>\n",
       "    </tr>\n",
       "    <tr>\n",
       "      <th>job_health_insurance</th>\n",
       "      <td>False</td>\n",
       "    </tr>\n",
       "    <tr>\n",
       "      <th>job_country</th>\n",
       "      <td>United States</td>\n",
       "    </tr>\n",
       "    <tr>\n",
       "      <th>salary_rate</th>\n",
       "      <td>None</td>\n",
       "    </tr>\n",
       "    <tr>\n",
       "      <th>salary_year_avg</th>\n",
       "      <td>NaN</td>\n",
       "    </tr>\n",
       "    <tr>\n",
       "      <th>salary_hour_avg</th>\n",
       "      <td>NaN</td>\n",
       "    </tr>\n",
       "    <tr>\n",
       "      <th>company_name</th>\n",
       "      <td>Southwest Research Institute</td>\n",
       "    </tr>\n",
       "    <tr>\n",
       "      <th>job_skills</th>\n",
       "      <td>['python', 'c++', 'java', 'matlab', 'aws', 'te...</td>\n",
       "    </tr>\n",
       "    <tr>\n",
       "      <th>job_type_skills</th>\n",
       "      <td>{'cloud': ['aws'], 'libraries': ['tensorflow',...</td>\n",
       "    </tr>\n",
       "  </tbody>\n",
       "</table>\n",
       "</div><br><label><b>dtype:</b> object</label>"
      ],
      "text/plain": [
       "job_title_short                                              Data Engineer\n",
       "job_title                LEAD ENGINEER - PRINCIPAL ANALYST - PRINCIPAL ...\n",
       "job_location                                               San Antonio, TX\n",
       "job_via                                                  via Diversity.com\n",
       "job_schedule_type                                                Full-time\n",
       "job_work_from_home                                                   False\n",
       "search_location                                       Texas, United States\n",
       "job_posted_date                                        2023-07-04 13:01:41\n",
       "job_no_degree_mention                                                 True\n",
       "job_health_insurance                                                 False\n",
       "job_country                                                  United States\n",
       "salary_rate                                                           None\n",
       "salary_year_avg                                                        NaN\n",
       "salary_hour_avg                                                        NaN\n",
       "company_name                                  Southwest Research Institute\n",
       "job_skills               ['python', 'c++', 'java', 'matlab', 'aws', 'te...\n",
       "job_type_skills          {'cloud': ['aws'], 'libraries': ['tensorflow',...\n",
       "Name: 3, dtype: object"
      ]
     },
     "execution_count": 7,
     "metadata": {},
     "output_type": "execute_result"
    }
   ],
   "source": [
    "df.iloc[3]"
   ]
  },
  {
   "cell_type": "markdown",
   "id": "2625930f",
   "metadata": {
    "id": "2625930f"
   },
   "source": [
    "---"
   ]
  },
  {
   "cell_type": "markdown",
   "id": "29cec3e2",
   "metadata": {
    "id": "29cec3e2"
   },
   "source": [
    "## 🟨 Unique Job Countries (1.24.2)"
   ]
  },
  {
   "cell_type": "code",
   "execution_count": 9,
   "id": "b6bfe29b",
   "metadata": {
    "colab": {
     "base_uri": "https://localhost:8080/"
    },
    "id": "b6bfe29b",
    "outputId": "11c756b8-63d8-45cf-a593-6ce7f9996ec0"
   },
   "outputs": [
    {
     "data": {
      "text/plain": [
       "array(['United States', 'Mexico', 'Germany', 'Sudan', 'Romania',\n",
       "       'Denmark', 'Switzerland', 'France', 'Brazil', 'United Kingdom',\n",
       "       'India', 'Poland', 'Belgium', 'Russia', 'Serbia', 'Singapore',\n",
       "       'Costa Rica', 'Ireland', 'Italy', 'Malaysia', 'Canada', 'Uruguay',\n",
       "       'Namibia', 'Estonia', 'Israel', 'Hungary', 'Austria',\n",
       "       'Philippines', 'Egypt', 'Australia', 'Chile', 'Spain',\n",
       "       'Netherlands', 'South Africa', 'Colombia', 'Hong Kong', 'Kuwait',\n",
       "       'Finland', 'Luxembourg', 'China', 'Puerto Rico', 'Sweden',\n",
       "       'Saudi Arabia', 'Argentina', 'Turkey', 'Panama', 'Nigeria',\n",
       "       'New Zealand', 'Ukraine', 'Jordan', 'United Arab Emirates',\n",
       "       'Armenia', 'Pakistan', 'Lesotho', 'Mauritius', 'Portugal',\n",
       "       'Bahrain', 'Taiwan', \"Côte d'Ivoire\", 'U.S. Virgin Islands',\n",
       "       'Réunion', 'Kazakhstan', 'Lithuania', 'Moldova', 'Belarus',\n",
       "       'Cyprus', 'Bulgaria', 'Honduras', 'Czechia', 'Peru', 'South Korea',\n",
       "       'Malta', 'Indonesia', 'Tunisia', 'Latvia', 'Slovakia', 'Lebanon',\n",
       "       'Japan', 'Sri Lanka', 'Slovenia', 'Bangladesh', 'Greece',\n",
       "       'Ecuador', 'Oman', 'Kenya', 'Guyana', 'Vietnam', 'Norway',\n",
       "       'Senegal', 'El Salvador', 'Iceland', 'Thailand', 'Ghana',\n",
       "       'Croatia', 'Myanmar', 'Nepal', 'Morocco', 'Guadeloupe', 'Iraq',\n",
       "       'Palestine', 'Guinea', 'Albania', 'Guatemala', 'Qatar', 'Uganda',\n",
       "       'Bolivia', None, 'Dominican Republic', 'Ethiopia', 'Haiti',\n",
       "       'Uzbekistan', 'Bahamas', 'Liberia', 'Montenegro', 'Cayman Islands',\n",
       "       'Mongolia', 'Macedonia (FYROM)', 'Azerbaijan', 'Burkina Faso',\n",
       "       'Guam', 'Trinidad and Tobago', 'Benin', 'Kyrgyzstan',\n",
       "       'Bosnia and Herzegovina', 'Zambia', 'Cameroon', 'Venezuela',\n",
       "       'Barbados', 'Togo', 'Rwanda', 'Cambodia', 'Algeria', 'Afghanistan',\n",
       "       'Congo, Democratic Republic of the', 'Zimbabwe', 'Jamaica',\n",
       "       'Suriname', 'Mozambique', 'Yemen', 'Tanzania', 'Madagascar',\n",
       "       'Mali', 'Paraguay', 'Brunei', 'Malawi', 'Nicaragua', 'Libya',\n",
       "       'Tajikistan', 'Mauritania', 'Botswana', 'Fiji',\n",
       "       'Northern Mariana Islands', 'Angola', 'Somalia',\n",
       "       'Papua New Guinea', 'Gambia', 'Djibouti', 'Laos', 'Curaçao',\n",
       "       'Maldives', 'Bhutan'], dtype=object)"
      ]
     },
     "execution_count": 9,
     "metadata": {},
     "output_type": "execute_result"
    }
   ],
   "source": [
    "df['job_country'].unique()"
   ]
  },
  {
   "cell_type": "markdown",
   "id": "20de2ec6",
   "metadata": {
    "id": "20de2ec6"
   },
   "source": [
    "---"
   ]
  },
  {
   "cell_type": "markdown",
   "id": "98da3ceb",
   "metadata": {
    "id": "98da3ceb"
   },
   "source": [
    "## 🟨 Filter by Job Schedule Type and Display (1.24.3)"
   ]
  },
  {
   "cell_type": "code",
   "execution_count": 18,
   "id": "10295ba0",
   "metadata": {
    "colab": {
     "base_uri": "https://localhost:8080/",
     "height": 1000
    },
    "id": "10295ba0",
    "outputId": "9bf900fa-cb48-4de9-a5d9-1d3c5aad8890"
   },
   "outputs": [
    {
     "data": {
      "text/html": [
       "<div>\n",
       "<style scoped>\n",
       "    .dataframe tbody tr th:only-of-type {\n",
       "        vertical-align: middle;\n",
       "    }\n",
       "\n",
       "    .dataframe tbody tr th {\n",
       "        vertical-align: top;\n",
       "    }\n",
       "\n",
       "    .dataframe thead th {\n",
       "        text-align: right;\n",
       "    }\n",
       "</style>\n",
       "<table border=\"1\" class=\"dataframe\">\n",
       "  <thead>\n",
       "    <tr style=\"text-align: right;\">\n",
       "      <th></th>\n",
       "      <th>count</th>\n",
       "    </tr>\n",
       "    <tr>\n",
       "      <th>job_schedule_type</th>\n",
       "      <th></th>\n",
       "    </tr>\n",
       "  </thead>\n",
       "  <tbody>\n",
       "    <tr>\n",
       "      <th>Full-time</th>\n",
       "      <td>701727</td>\n",
       "    </tr>\n",
       "    <tr>\n",
       "      <th>Contractor</th>\n",
       "      <td>34793</td>\n",
       "    </tr>\n",
       "    <tr>\n",
       "      <th>Internship</th>\n",
       "      <td>8742</td>\n",
       "    </tr>\n",
       "    <tr>\n",
       "      <th>Part-time</th>\n",
       "      <td>7881</td>\n",
       "    </tr>\n",
       "    <tr>\n",
       "      <th>Full-time and Part-time</th>\n",
       "      <td>6287</td>\n",
       "    </tr>\n",
       "    <tr>\n",
       "      <th>Full-time and Temp work</th>\n",
       "      <td>2603</td>\n",
       "    </tr>\n",
       "    <tr>\n",
       "      <th>Full-time and Internship</th>\n",
       "      <td>2340</td>\n",
       "    </tr>\n",
       "    <tr>\n",
       "      <th>Full-time and Contractor</th>\n",
       "      <td>2292</td>\n",
       "    </tr>\n",
       "    <tr>\n",
       "      <th>Contractor and Temp work</th>\n",
       "      <td>2283</td>\n",
       "    </tr>\n",
       "    <tr>\n",
       "      <th>Temp work</th>\n",
       "      <td>2169</td>\n",
       "    </tr>\n",
       "    <tr>\n",
       "      <th>Full-time, Part-time, and Internship</th>\n",
       "      <td>264</td>\n",
       "    </tr>\n",
       "    <tr>\n",
       "      <th>Part-time and Internship</th>\n",
       "      <td>255</td>\n",
       "    </tr>\n",
       "    <tr>\n",
       "      <th>Temp work and Internship</th>\n",
       "      <td>211</td>\n",
       "    </tr>\n",
       "    <tr>\n",
       "      <th>Full-time, Contractor, and Temp work</th>\n",
       "      <td>194</td>\n",
       "    </tr>\n",
       "    <tr>\n",
       "      <th>Full-time, Temp work, and Internship</th>\n",
       "      <td>173</td>\n",
       "    </tr>\n",
       "    <tr>\n",
       "      <th>Part-time and Contractor</th>\n",
       "      <td>160</td>\n",
       "    </tr>\n",
       "    <tr>\n",
       "      <th>Full-time, Part-time, and Temp work</th>\n",
       "      <td>131</td>\n",
       "    </tr>\n",
       "    <tr>\n",
       "      <th>Full-time, Part-time, and Contractor</th>\n",
       "      <td>119</td>\n",
       "    </tr>\n",
       "    <tr>\n",
       "      <th>Part-time and Temp work</th>\n",
       "      <td>111</td>\n",
       "    </tr>\n",
       "    <tr>\n",
       "      <th>Pekerjaan tetap</th>\n",
       "      <td>59</td>\n",
       "    </tr>\n",
       "    <tr>\n",
       "      <th>Volunteer</th>\n",
       "      <td>51</td>\n",
       "    </tr>\n",
       "    <tr>\n",
       "      <th>Full-time and Per diem</th>\n",
       "      <td>42</td>\n",
       "    </tr>\n",
       "    <tr>\n",
       "      <th>Contractor and Internship</th>\n",
       "      <td>41</td>\n",
       "    </tr>\n",
       "    <tr>\n",
       "      <th>Full-time, Contractor, and Internship</th>\n",
       "      <td>29</td>\n",
       "    </tr>\n",
       "    <tr>\n",
       "      <th>Per diem</th>\n",
       "      <td>20</td>\n",
       "    </tr>\n",
       "    <tr>\n",
       "      <th>Part-time, Contractor, and Temp work</th>\n",
       "      <td>19</td>\n",
       "    </tr>\n",
       "    <tr>\n",
       "      <th>Part-time and Full-time</th>\n",
       "      <td>19</td>\n",
       "    </tr>\n",
       "    <tr>\n",
       "      <th>Part-time, Temp work, and Internship</th>\n",
       "      <td>12</td>\n",
       "    </tr>\n",
       "    <tr>\n",
       "      <th>Full-time and Volunteer</th>\n",
       "      <td>8</td>\n",
       "    </tr>\n",
       "    <tr>\n",
       "      <th>Part-time and Per diem</th>\n",
       "      <td>5</td>\n",
       "    </tr>\n",
       "    <tr>\n",
       "      <th>Contractor and Per diem</th>\n",
       "      <td>4</td>\n",
       "    </tr>\n",
       "    <tr>\n",
       "      <th>Contractor and Part-time</th>\n",
       "      <td>3</td>\n",
       "    </tr>\n",
       "    <tr>\n",
       "      <th>Full-time, Temp work, and Per diem</th>\n",
       "      <td>3</td>\n",
       "    </tr>\n",
       "    <tr>\n",
       "      <th>Contractor, Temp work, and Internship</th>\n",
       "      <td>3</td>\n",
       "    </tr>\n",
       "    <tr>\n",
       "      <th>Internship and Full-time</th>\n",
       "      <td>3</td>\n",
       "    </tr>\n",
       "    <tr>\n",
       "      <th>Kontraktor</th>\n",
       "      <td>3</td>\n",
       "    </tr>\n",
       "    <tr>\n",
       "      <th>Contractor and Full-time</th>\n",
       "      <td>2</td>\n",
       "    </tr>\n",
       "    <tr>\n",
       "      <th>Part-time and Volunteer</th>\n",
       "      <td>2</td>\n",
       "    </tr>\n",
       "    <tr>\n",
       "      <th>Full-time, Part-time, and Volunteer</th>\n",
       "      <td>2</td>\n",
       "    </tr>\n",
       "    <tr>\n",
       "      <th>Full-time, Contractor, and Volunteer</th>\n",
       "      <td>2</td>\n",
       "    </tr>\n",
       "    <tr>\n",
       "      <th>Part-time, Internship, and Volunteer</th>\n",
       "      <td>1</td>\n",
       "    </tr>\n",
       "    <tr>\n",
       "      <th>Internship and Per diem</th>\n",
       "      <td>1</td>\n",
       "    </tr>\n",
       "    <tr>\n",
       "      <th>Temp work and Full-time</th>\n",
       "      <td>1</td>\n",
       "    </tr>\n",
       "    <tr>\n",
       "      <th>Full-time, Part-time, and Per diem</th>\n",
       "      <td>1</td>\n",
       "    </tr>\n",
       "    <tr>\n",
       "      <th>Internship and Volunteer</th>\n",
       "      <td>1</td>\n",
       "    </tr>\n",
       "    <tr>\n",
       "      <th>Part-time, Contractor, and Internship</th>\n",
       "      <td>1</td>\n",
       "    </tr>\n",
       "    <tr>\n",
       "      <th>Temp work, Full-time, and Part-time</th>\n",
       "      <td>1</td>\n",
       "    </tr>\n",
       "  </tbody>\n",
       "</table>\n",
       "</div><br><label><b>dtype:</b> int64</label>"
      ],
      "text/plain": [
       "job_schedule_type\n",
       "Full-time                                701727\n",
       "Contractor                                34793\n",
       "Internship                                 8742\n",
       "Part-time                                  7881\n",
       "Full-time and Part-time                    6287\n",
       "Full-time and Temp work                    2603\n",
       "Full-time and Internship                   2340\n",
       "Full-time and Contractor                   2292\n",
       "Contractor and Temp work                   2283\n",
       "Temp work                                  2169\n",
       "Full-time, Part-time, and Internship        264\n",
       "Part-time and Internship                    255\n",
       "Temp work and Internship                    211\n",
       "Full-time, Contractor, and Temp work        194\n",
       "Full-time, Temp work, and Internship        173\n",
       "Part-time and Contractor                    160\n",
       "Full-time, Part-time, and Temp work         131\n",
       "Full-time, Part-time, and Contractor        119\n",
       "Part-time and Temp work                     111\n",
       "Pekerjaan tetap                              59\n",
       "Volunteer                                    51\n",
       "Full-time and Per diem                       42\n",
       "Contractor and Internship                    41\n",
       "Full-time, Contractor, and Internship        29\n",
       "Per diem                                     20\n",
       "Part-time, Contractor, and Temp work         19\n",
       "Part-time and Full-time                      19\n",
       "Part-time, Temp work, and Internship         12\n",
       "Full-time and Volunteer                       8\n",
       "Part-time and Per diem                        5\n",
       "Contractor and Per diem                       4\n",
       "Contractor and Part-time                      3\n",
       "Full-time, Temp work, and Per diem            3\n",
       "Contractor, Temp work, and Internship         3\n",
       "Internship and Full-time                      3\n",
       "Kontraktor                                    3\n",
       "Contractor and Full-time                      2\n",
       "Part-time and Volunteer                       2\n",
       "Full-time, Part-time, and Volunteer           2\n",
       "Full-time, Contractor, and Volunteer          2\n",
       "Part-time, Internship, and Volunteer          1\n",
       "Internship and Per diem                       1\n",
       "Temp work and Full-time                       1\n",
       "Full-time, Part-time, and Per diem            1\n",
       "Internship and Volunteer                      1\n",
       "Part-time, Contractor, and Internship         1\n",
       "Temp work, Full-time, and Part-time           1\n",
       "Name: count, dtype: int64"
      ]
     },
     "execution_count": 18,
     "metadata": {},
     "output_type": "execute_result"
    }
   ],
   "source": [
    "df['job_schedule_type'].value_counts()"
   ]
  },
  {
   "cell_type": "markdown",
   "id": "6a096207",
   "metadata": {
    "id": "6a096207"
   },
   "source": [
    "---"
   ]
  },
  {
   "cell_type": "markdown",
   "id": "310c4c3b",
   "metadata": {
    "id": "310c4c3b"
   },
   "source": [
    "## 🟥 Check Missing Values (1.24.4)"
   ]
  },
  {
   "cell_type": "code",
   "execution_count": 22,
   "id": "e8184154",
   "metadata": {
    "colab": {
     "base_uri": "https://localhost:8080/",
     "height": 178
    },
    "id": "e8184154",
    "outputId": "42971989-22dc-44af-8bff-31772de54113"
   },
   "outputs": [
    {
     "data": {
      "text/html": [
       "<div>\n",
       "<style scoped>\n",
       "    .dataframe tbody tr th:only-of-type {\n",
       "        vertical-align: middle;\n",
       "    }\n",
       "\n",
       "    .dataframe tbody tr th {\n",
       "        vertical-align: top;\n",
       "    }\n",
       "\n",
       "    .dataframe thead th {\n",
       "        text-align: right;\n",
       "    }\n",
       "</style>\n",
       "<table border=\"1\" class=\"dataframe\">\n",
       "  <thead>\n",
       "    <tr style=\"text-align: right;\">\n",
       "      <th></th>\n",
       "      <th>count</th>\n",
       "    </tr>\n",
       "    <tr>\n",
       "      <th>salary_year_avg</th>\n",
       "      <th></th>\n",
       "    </tr>\n",
       "  </thead>\n",
       "  <tbody>\n",
       "    <tr>\n",
       "      <th>False</th>\n",
       "      <td>763738</td>\n",
       "    </tr>\n",
       "    <tr>\n",
       "      <th>True</th>\n",
       "      <td>22003</td>\n",
       "    </tr>\n",
       "  </tbody>\n",
       "</table>\n",
       "</div><br><label><b>dtype:</b> int64</label>"
      ],
      "text/plain": [
       "salary_year_avg\n",
       "False    763738\n",
       "True      22003\n",
       "Name: count, dtype: int64"
      ]
     },
     "execution_count": 22,
     "metadata": {},
     "output_type": "execute_result"
    }
   ],
   "source": [
    "df['salary_year_avg'].notna().value_counts()\n",
    "#There are 22003 null values and 763738 null values in this column"
   ]
  },
  {
   "cell_type": "markdown",
   "id": "87d9297c",
   "metadata": {
    "id": "87d9297c"
   },
   "source": [
    "---"
   ]
  }
 ],
 "metadata": {
  "colab": {
   "provenance": []
  },
  "kernelspec": {
   "display_name": "python_course",
   "language": "python",
   "name": "python3"
  },
  "language_info": {
   "codemirror_mode": {
    "name": "ipython",
    "version": 3
   },
   "file_extension": ".py",
   "mimetype": "text/x-python",
   "name": "python",
   "nbconvert_exporter": "python",
   "pygments_lexer": "ipython3",
   "version": "3.11.9"
  }
 },
 "nbformat": 4,
 "nbformat_minor": 5
}
