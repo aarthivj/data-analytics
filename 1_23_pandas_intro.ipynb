{
  "cells": [
    {
      "cell_type": "markdown",
      "metadata": {
        "id": "view-in-github",
        "colab_type": "text"
      },
      "source": [
        "<a href=\"https://colab.research.google.com/github/aarthivj/data-analytics/blob/main/1_23_pandas_intro.ipynb\" target=\"_parent\"><img src=\"https://colab.research.google.com/assets/colab-badge.svg\" alt=\"Open In Colab\"/></a>"
      ]
    },
    {
      "cell_type": "markdown",
      "id": "cd18f1ad",
      "metadata": {
        "id": "cd18f1ad"
      },
      "source": [
        "<a target=\"_blank\" href=\"https://colab.research.google.com/github/lukebarousse/Python_Data_Analytics_Course/blob/main/4_Problems/1_23_Pandas Intro.ipynb\">\n",
        "  <img src=\"https://colab.research.google.com/assets/colab-badge.svg\" alt=\"Open In Colab\"/>\n",
        "</a>"
      ]
    },
    {
      "cell_type": "markdown",
      "id": "8fc69485",
      "metadata": {
        "id": "8fc69485"
      },
      "source": [
        "## 🟩 Load and Display Last 5 Rows (1.23.1)"
      ]
    },
    {
      "cell_type": "code",
      "execution_count": null,
      "id": "d8ec0631",
      "metadata": {
        "id": "d8ec0631"
      },
      "outputs": [],
      "source": []
    },
    {
      "cell_type": "markdown",
      "id": "71ea4cdc",
      "metadata": {
        "id": "71ea4cdc"
      },
      "source": [
        "---"
      ]
    },
    {
      "cell_type": "markdown",
      "id": "b0e36442",
      "metadata": {
        "id": "b0e36442"
      },
      "source": [
        "## 🟩 Select Job Location Column (1.23.2)"
      ]
    },
    {
      "cell_type": "code",
      "execution_count": null,
      "id": "9062f032",
      "metadata": {
        "id": "9062f032"
      },
      "outputs": [],
      "source": []
    },
    {
      "cell_type": "markdown",
      "id": "97ef6ba5",
      "metadata": {
        "id": "97ef6ba5"
      },
      "source": [
        "---"
      ]
    },
    {
      "cell_type": "markdown",
      "id": "657854a6",
      "metadata": {
        "id": "657854a6"
      },
      "source": [
        "## 🟩 Select Search Location Column (1.23.3)"
      ]
    },
    {
      "cell_type": "code",
      "execution_count": null,
      "id": "3b544269",
      "metadata": {
        "id": "3b544269"
      },
      "outputs": [],
      "source": []
    },
    {
      "cell_type": "markdown",
      "id": "6cddcc08",
      "metadata": {
        "id": "6cddcc08"
      },
      "source": [
        "---"
      ]
    },
    {
      "cell_type": "markdown",
      "id": "c18b384e",
      "metadata": {
        "id": "c18b384e"
      },
      "source": [
        "## 🟩 Select Job Title from 57th Row Element (1.23.4)"
      ]
    },
    {
      "cell_type": "code",
      "execution_count": null,
      "id": "3240778d",
      "metadata": {
        "id": "3240778d"
      },
      "outputs": [],
      "source": []
    },
    {
      "cell_type": "markdown",
      "id": "24502846",
      "metadata": {
        "id": "24502846"
      },
      "source": [
        "---"
      ]
    }
  ],
  "metadata": {
    "language_info": {
      "name": "python"
    },
    "colab": {
      "provenance": [],
      "include_colab_link": true
    },
    "kernelspec": {
      "name": "python3",
      "display_name": "Python 3"
    }
  },
  "nbformat": 4,
  "nbformat_minor": 5
}