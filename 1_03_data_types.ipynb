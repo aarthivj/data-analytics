{
  "cells": [
    {
      "cell_type": "markdown",
      "metadata": {
        "id": "view-in-github",
        "colab_type": "text"
      },
      "source": [
        "<a href=\"https://colab.research.google.com/github/aarthivj/data-analytics/blob/main/1_03_data_types.ipynb\" target=\"_parent\"><img src=\"https://colab.research.google.com/assets/colab-badge.svg\" alt=\"Open In Colab\"/></a>"
      ]
    },
    {
      "cell_type": "markdown",
      "id": "7ab4aeb5",
      "metadata": {
        "id": "7ab4aeb5"
      },
      "source": [
        "<a target=\"_blank\" href=\"https://colab.research.google.com/github/lukebarousse/Python_Data_Analytics_Course/blob/main/4_Problems/1_03_Data Types.ipynb\">\n",
        "  <img src=\"https://colab.research.google.com/assets/colab-badge.svg\" alt=\"Open In Colab\"/>\n",
        "</a>"
      ]
    },
    {
      "cell_type": "markdown",
      "id": "5574e3d0",
      "metadata": {
        "id": "5574e3d0"
      },
      "source": [
        "## 🟩 Check Data Type (1.3.1)"
      ]
    },
    {
      "cell_type": "code",
      "execution_count": null,
      "id": "ca389065",
      "metadata": {
        "colab": {
          "base_uri": "https://localhost:8080/"
        },
        "id": "ca389065",
        "outputId": "55b75c09-3fc9-408c-883c-08dea77a9639"
      },
      "outputs": [
        {
          "output_type": "execute_result",
          "data": {
            "text/plain": [
              "str"
            ]
          },
          "metadata": {},
          "execution_count": 2
        }
      ],
      "source": [
        "# Code Needed\n",
        "job_title = 'Data Scientist'\n",
        "type(job_title)"
      ]
    },
    {
      "cell_type": "markdown",
      "id": "7b166e5c",
      "metadata": {
        "id": "7b166e5c"
      },
      "source": [
        "---"
      ]
    },
    {
      "cell_type": "markdown",
      "id": "bc4093b6",
      "metadata": {
        "id": "bc4093b6"
      },
      "source": [
        "## 🟩 Check Float Type (1.3.2)"
      ]
    },
    {
      "cell_type": "code",
      "execution_count": null,
      "id": "07954965",
      "metadata": {
        "colab": {
          "base_uri": "https://localhost:8080/"
        },
        "id": "07954965",
        "outputId": "55728449-1ceb-4208-8d29-b8f15a115c84"
      },
      "outputs": [
        {
          "output_type": "execute_result",
          "data": {
            "text/plain": [
              "float"
            ]
          },
          "metadata": {},
          "execution_count": 3
        }
      ],
      "source": [
        "# Code Needed\n",
        "salary = 85000.50\n",
        "type(salary)"
      ]
    },
    {
      "cell_type": "markdown",
      "id": "37ad30b0",
      "metadata": {
        "id": "37ad30b0"
      },
      "source": [
        "---"
      ]
    },
    {
      "cell_type": "markdown",
      "id": "ba5f1ead",
      "metadata": {
        "id": "ba5f1ead"
      },
      "source": [
        "## 🟨 Convert to Integer (1.3.3)"
      ]
    },
    {
      "cell_type": "code",
      "execution_count": null,
      "id": "4ab358e6",
      "metadata": {
        "colab": {
          "base_uri": "https://localhost:8080/"
        },
        "id": "4ab358e6",
        "outputId": "8c883ec0-695b-4049-b2b2-f9a5dc2ae6aa"
      },
      "outputs": [
        {
          "output_type": "execute_result",
          "data": {
            "text/plain": [
              "120000"
            ]
          },
          "metadata": {},
          "execution_count": 4
        }
      ],
      "source": [
        "# Code Needed\n",
        "salary_rate = 120000.75\n",
        "sal = int(salary_rate)\n",
        "sal"
      ]
    },
    {
      "cell_type": "markdown",
      "id": "5cd8185f",
      "metadata": {
        "id": "5cd8185f"
      },
      "source": [
        "---"
      ]
    },
    {
      "cell_type": "markdown",
      "id": "54a9cf24",
      "metadata": {
        "id": "54a9cf24"
      },
      "source": [
        "## 🟥 Check String Type (1.3.4)"
      ]
    },
    {
      "cell_type": "code",
      "execution_count": null,
      "id": "b34b708d",
      "metadata": {
        "colab": {
          "base_uri": "https://localhost:8080/"
        },
        "id": "b34b708d",
        "outputId": "9e4ea176-68b7-4d2e-e2a0-332b6c6c69de"
      },
      "outputs": [
        {
          "output_type": "execute_result",
          "data": {
            "text/plain": [
              "str"
            ]
          },
          "metadata": {},
          "execution_count": 5
        }
      ],
      "source": [
        "# Code Needed\n",
        "company_name = 'DataWiz Inc.'\n",
        "type(company_name)"
      ]
    },
    {
      "cell_type": "markdown",
      "id": "d3225984",
      "metadata": {
        "id": "d3225984"
      },
      "source": [
        "---"
      ]
    }
  ],
  "metadata": {
    "colab": {
      "provenance": [],
      "include_colab_link": true
    },
    "language_info": {
      "name": "python"
    },
    "kernelspec": {
      "name": "python3",
      "display_name": "Python 3"
    }
  },
  "nbformat": 4,
  "nbformat_minor": 5
}